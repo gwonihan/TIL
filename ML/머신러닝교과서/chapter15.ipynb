{
 "cells": [
  {
   "cell_type": "markdown",
   "id": "71be9222",
   "metadata": {},
   "source": [
    "# 15. 심층 합성곱 신경망으로 이미지 분류"
   ]
  },
  {
   "cell_type": "markdown",
   "id": "8282d261",
   "metadata": {},
   "source": [
    "## 15.1 합성곱 신경망의 구성 요소"
   ]
  },
  {
   "cell_type": "markdown",
   "id": "9cc66e00",
   "metadata": {},
   "source": [
    "### 15.1.2 이산 합성곱 수행"
   ]
  },
  {
   "cell_type": "code",
   "execution_count": 3,
   "id": "d94234aa",
   "metadata": {},
   "outputs": [],
   "source": [
    "import numpy as np\n",
    "def conv1d(x, w, p=0, s=1):\n",
    "    w_rot = np.array(w[::-1])\n",
    "    x_padded = np.array(x)\n",
    "    if p>0:\n",
    "        zero_pad = np.zeros(shape=p)\n",
    "        x_padded = np.concatenate([zero_pad, x_padded, zero_pad])\n",
    "    res = []\n",
    "    for i in range(0, int((len(x_padded) - len(w_rot)) / s) + 1, s):\n",
    "        res.append(np.sum(\n",
    "            x_padded[i:i+w_rot.shape[0]] * w_rot))\n",
    "    return np.array(res)"
   ]
  },
  {
   "cell_type": "code",
   "execution_count": 5,
   "id": "9545fcf2",
   "metadata": {},
   "outputs": [
    {
     "name": "stdout",
     "output_type": "stream",
     "text": [
      "Conv1d 구현: [ 5. 14. 16. 26. 24. 34. 19. 22.]\n",
      "넘파이 결과: [ 5 14 16 26 24 34 19 22]\n"
     ]
    }
   ],
   "source": [
    "## 테스트:\n",
    "x = [1, 3, 2, 4, 5, 6, 1, 3]\n",
    "w = [1, 0, 3, 1, 2]\n",
    "\n",
    "print('Conv1d 구현:', conv1d(x, w, p=2, s=1))\n",
    "\n",
    "print('넘파이 결과:', np.convolve(x, w, mode='same'))"
   ]
  },
  {
   "cell_type": "markdown",
   "id": "1fb3b054",
   "metadata": {},
   "source": [
    "2D 이산 합성곱 수행"
   ]
  },
  {
   "cell_type": "code",
   "execution_count": 6,
   "id": "1061a0b7",
   "metadata": {},
   "outputs": [],
   "source": [
    "import numpy as np\n",
    "import scipy.signal\n",
    "\n",
    "def conv2d(X, W, p=(0, 0), s=(1, 1)):\n",
    "    W_rot = np.array(W)[::-1, ::-1]\n",
    "    X_orig = np.array(X)\n",
    "    n1 = X_orig.shape[0] + 2*p[0]\n",
    "    n2 = X_orig.shape[1] + 2*p[1]\n",
    "    X_padded = np.zeros(shape=(n1, n2))\n",
    "    X_padded[p[0]:p[0] + X_orig.shape[0],\n",
    "             p[1]:p[1] + X_orig.shape[1]] = X_orig\n",
    "    res = []\n",
    "    for i in range(0, int((X_padded.shape[0] - W_rot.shape[0]) / s[0]) +1, s[0]):\n",
    "        res.append([])\n",
    "        for j in range(0, int((X_padded.shape[1] - W_rot.shape[1]) / s[1]) +1, s[1]):\n",
    "            X_sub = X_padded[i:i + W_rot.shape[0],\n",
    "                             j:j + W_rot.shape[1]]\n",
    "            res[-1].append(np.sum(X_sub * W_rot))\n",
    "    return(np.array(res))"
   ]
  },
  {
   "cell_type": "code",
   "execution_count": 7,
   "id": "84c06b0f",
   "metadata": {},
   "outputs": [
    {
     "name": "stdout",
     "output_type": "stream",
     "text": [
      "Conv2d 구현:\n",
      " [[11. 25. 32. 13.]\n",
      " [19. 25. 24. 13.]\n",
      " [13. 28. 25. 17.]\n",
      " [11. 17. 14.  9.]]\n",
      "사이파이 결과:\n",
      " [[11 25 32 13]\n",
      " [19 25 24 13]\n",
      " [13 28 25 17]\n",
      " [11 17 14  9]]\n"
     ]
    }
   ],
   "source": [
    "X = [[1, 3, 2, 4], [5, 6, 1, 3], [1, 2, 0, 2], [3, 4, 3, 2]]\n",
    "W = [[1, 0, 3], [1, 2, 1], [0, 1, 1]]\n",
    "print('Conv2d 구현:\\n', conv2d(X, W, p=(1, 1), s=(1, 1)))\n",
    "\n",
    "print('사이파이 결과:\\n', scipy.signal.convolve2d(X, W, mode='same'))"
   ]
  },
  {
   "cell_type": "markdown",
   "id": "e57b2533",
   "metadata": {},
   "source": [
    "### 15.1.3 서브샘플링"
   ]
  },
  {
   "cell_type": "markdown",
   "id": "b4bd9ad1",
   "metadata": {},
   "source": [
    "## 15.2 기본 구성 요소를 사용하여 심층 합성곱 신경망 구성"
   ]
  },
  {
   "cell_type": "markdown",
   "id": "9b11ae88",
   "metadata": {},
   "source": [
    "### 15.2.2 드롭아웃으로 신경망 규제"
   ]
  },
  {
   "cell_type": "code",
   "execution_count": 9,
   "id": "77541113",
   "metadata": {},
   "outputs": [],
   "source": [
    "from tensorflow import keras\n",
    "conv_layer = keras.layers.Conv2D(\n",
    "    filters=16,\n",
    "    kernel_size=(3,3),\n",
    "    kernel_regularizer=keras.regularizers.l2(0.001))\n",
    "fc_layer = keras.layers.Dense(\n",
    "    units=16,\n",
    "    kernel_regularizer=keras.regularizers.l2(0.001))"
   ]
  },
  {
   "cell_type": "markdown",
   "id": "46557224",
   "metadata": {},
   "source": [
    "### 15.2.3 분류를 위한 손실 함수"
   ]
  },
  {
   "cell_type": "code",
   "execution_count": 11,
   "id": "0ac1a3fa",
   "metadata": {},
   "outputs": [
    {
     "name": "stdout",
     "output_type": "stream",
     "text": [
      "BCE (확률): 0.3711 (로짓): 0.3711\r\n"
     ]
    }
   ],
   "source": [
    "import tensorflow_datasets as tfds\n",
    "import tensorflow as tf\n",
    "\n",
    "## 이진 크로스 엔트로피\n",
    "bce_probas = tf.keras.losses.BinaryCrossentropy(from_logits=False)\n",
    "bce_logits = tf.keras.losses.BinaryCrossentropy(from_logits=True)\n",
    "logits = tf.constant([0.8])\n",
    "probas = tf.keras.activations.sigmoid(logits)\n",
    "tf.print(\n",
    "    'BCE (확률): {:.4f}'.format(\n",
    "    bce_probas(y_true=[1], y_pred=probas)),\n",
    "    '(로짓): {:.4f}'.format(\n",
    "    bce_logits(y_true=[1], y_pred=logits)))"
   ]
  },
  {
   "cell_type": "code",
   "execution_count": 14,
   "id": "b39c4969",
   "metadata": {},
   "outputs": [
    {
     "name": "stdout",
     "output_type": "stream",
     "text": [
      "CCE (확률): 0.5996 (로짓): 0.5996\r\n"
     ]
    },
    {
     "name": "stderr",
     "output_type": "stream",
     "text": [
      "C:\\Users\\us\\AppData\\Local\\Temp\\ipykernel_13552\\921979979.py:12: DeprecationWarning: distutils Version classes are deprecated. Use packaging.version instead.\n",
      "  if Version(tf.__version__) >= '2.3.0':\n"
     ]
    }
   ],
   "source": [
    "from distutils.version import LooseVersion as Version\n",
    "\n",
    "####### 범주형 크로스 엔트로피\n",
    "cce_probas = tf.keras.losses.CategoricalCrossentropy(\n",
    "    from_logits=False)\n",
    "cce_logits = tf.keras.losses.CategoricalCrossentropy(\n",
    "    from_logits=True)\n",
    "\n",
    "logits = tf.constant([[1.5, 0.8, 2.1]])\n",
    "probas = tf.keras.activations.softmax(logits)\n",
    "\n",
    "if Version(tf.__version__) >= '2.3.0':\n",
    "    tf.print(\n",
    "        'CCE (확률): {:.4f}'.format(\n",
    "        cce_probas(y_true=[[0, 0, 1]], y_pred=probas)),\n",
    "        '(로짓): {:.4f}'.format(\n",
    "        cce_logits(y_true=[[0, 0, 1]], y_pred=logits)))\n",
    "else:\n",
    "    tf.print(\n",
    "        'CCE (확률): {:.4f}'.format(\n",
    "        cce_probas(y_true=[0, 0, 1], y_pred=probas)),\n",
    "        '(로짓): {:.4f}'.format(\n",
    "        cce_logits(y_true=[0, 0, 1], y_pred=logits)))"
   ]
  },
  {
   "cell_type": "code",
   "execution_count": 15,
   "id": "1aff3752",
   "metadata": {},
   "outputs": [
    {
     "name": "stdout",
     "output_type": "stream",
     "text": [
      "Sparse CCE (확률): 0.5996 (로짓): 0.5996\r\n"
     ]
    }
   ],
   "source": [
    "## 희소 범주형 크로스 엔트로피\n",
    "sp_cce_probas = tf.keras.losses.SparseCategoricalCrossentropy(from_logits=False)\n",
    "sp_cce_logits = tf.keras.losses.SparseCategoricalCrossentropy(from_logits=True)\n",
    "tf.print(\n",
    "    'Sparse CCE (확률): {:.4f}'.format(sp_cce_probas(y_true=[2], y_pred=probas)),\n",
    "    '(로짓): {:.4f}'.format(sp_cce_logits(y_true=[2], y_pred=logits)) )"
   ]
  },
  {
   "cell_type": "code",
   "execution_count": null,
   "id": "c5c9af2d",
   "metadata": {},
   "outputs": [],
   "source": []
  }
 ],
 "metadata": {
  "kernelspec": {
   "display_name": "Python 3 (ipykernel)",
   "language": "python",
   "name": "python3"
  },
  "language_info": {
   "codemirror_mode": {
    "name": "ipython",
    "version": 3
   },
   "file_extension": ".py",
   "mimetype": "text/x-python",
   "name": "python",
   "nbconvert_exporter": "python",
   "pygments_lexer": "ipython3",
   "version": "3.9.15"
  }
 },
 "nbformat": 4,
 "nbformat_minor": 5
}
