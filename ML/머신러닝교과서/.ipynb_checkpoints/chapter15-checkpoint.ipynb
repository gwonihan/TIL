{
 "cells": [
  {
   "cell_type": "markdown",
   "id": "71be9222",
   "metadata": {},
   "source": [
    "# 15. 심층 합성곱 신경망으로 이미지 분류"
   ]
  },
  {
   "cell_type": "markdown",
   "id": "8282d261",
   "metadata": {},
   "source": [
    "## 15.1 합성곱 신경망의 구성 요소"
   ]
  },
  {
   "cell_type": "markdown",
   "id": "9cc66e00",
   "metadata": {},
   "source": [
    "### 15.1.2 이산 합성곱 수행"
   ]
  },
  {
   "cell_type": "code",
   "execution_count": 1,
   "id": "d94234aa",
   "metadata": {},
   "outputs": [],
   "source": [
    "import numpy as np\n",
    "def conv1d(x, w, p=0, s=1):\n",
    "    w_rot = np.array(w[::-1])\n",
    "    x_padded = np.array(x)\n",
    "    if p>0:\n",
    "        zero_pad = np.zeros(shape=p)\n",
    "        x_padded = np.concatenate([zero_pad, x_padded, zero_pad])\n",
    "    res = []\n",
    "    for i in range(0, int((len(x_padded) - len(w_rot)) / s) + 1, s):\n",
    "        res.append(np.sum(\n",
    "            x_padded[i:i+w_rot.shape[0]] * w_rot))\n",
    "    return np.array(res)"
   ]
  },
  {
   "cell_type": "code",
   "execution_count": 2,
   "id": "9545fcf2",
   "metadata": {},
   "outputs": [
    {
     "name": "stdout",
     "output_type": "stream",
     "text": [
      "Conv1d 구현: [ 5. 14. 16. 26. 24. 34. 19. 22.]\n",
      "넘파이 결과: [ 5 14 16 26 24 34 19 22]\n"
     ]
    }
   ],
   "source": [
    "## 테스트:\n",
    "x = [1, 3, 2, 4, 5, 6, 1, 3]\n",
    "w = [1, 0, 3, 1, 2]\n",
    "\n",
    "print('Conv1d 구현:', conv1d(x, w, p=2, s=1))\n",
    "\n",
    "print('넘파이 결과:', np.convolve(x, w, mode='same'))"
   ]
  },
  {
   "cell_type": "markdown",
   "id": "1fb3b054",
   "metadata": {},
   "source": [
    "2D 이산 합성곱 수행"
   ]
  },
  {
   "cell_type": "code",
   "execution_count": 3,
   "id": "1061a0b7",
   "metadata": {},
   "outputs": [],
   "source": [
    "import numpy as np\n",
    "import scipy.signal\n",
    "\n",
    "def conv2d(X, W, p=(0, 0), s=(1, 1)):\n",
    "    W_rot = np.array(W)[::-1, ::-1]\n",
    "    X_orig = np.array(X)\n",
    "    n1 = X_orig.shape[0] + 2*p[0]\n",
    "    n2 = X_orig.shape[1] + 2*p[1]\n",
    "    X_padded = np.zeros(shape=(n1, n2))\n",
    "    X_padded[p[0]:p[0] + X_orig.shape[0],\n",
    "             p[1]:p[1] + X_orig.shape[1]] = X_orig\n",
    "    res = []\n",
    "    for i in range(0, int((X_padded.shape[0] - W_rot.shape[0]) / s[0]) +1, s[0]):\n",
    "        res.append([])\n",
    "        for j in range(0, int((X_padded.shape[1] - W_rot.shape[1]) / s[1]) +1, s[1]):\n",
    "            X_sub = X_padded[i:i + W_rot.shape[0],\n",
    "                             j:j + W_rot.shape[1]]\n",
    "            res[-1].append(np.sum(X_sub * W_rot))\n",
    "    return(np.array(res))"
   ]
  },
  {
   "cell_type": "code",
   "execution_count": 4,
   "id": "84c06b0f",
   "metadata": {},
   "outputs": [
    {
     "name": "stdout",
     "output_type": "stream",
     "text": [
      "Conv2d 구현:\n",
      " [[11. 25. 32. 13.]\n",
      " [19. 25. 24. 13.]\n",
      " [13. 28. 25. 17.]\n",
      " [11. 17. 14.  9.]]\n",
      "사이파이 결과:\n",
      " [[11 25 32 13]\n",
      " [19 25 24 13]\n",
      " [13 28 25 17]\n",
      " [11 17 14  9]]\n"
     ]
    }
   ],
   "source": [
    "X = [[1, 3, 2, 4], [5, 6, 1, 3], [1, 2, 0, 2], [3, 4, 3, 2]]\n",
    "W = [[1, 0, 3], [1, 2, 1], [0, 1, 1]]\n",
    "print('Conv2d 구현:\\n', conv2d(X, W, p=(1, 1), s=(1, 1)))\n",
    "\n",
    "print('사이파이 결과:\\n', scipy.signal.convolve2d(X, W, mode='same'))"
   ]
  },
  {
   "cell_type": "markdown",
   "id": "e57b2533",
   "metadata": {},
   "source": [
    "### 15.1.3 서브샘플링"
   ]
  },
  {
   "cell_type": "markdown",
   "id": "b4bd9ad1",
   "metadata": {},
   "source": [
    "## 15.2 기본 구성 요소를 사용하여 심층 합성곱 신경망 구성"
   ]
  },
  {
   "cell_type": "markdown",
   "id": "9b11ae88",
   "metadata": {},
   "source": [
    "### 15.2.2 드롭아웃으로 신경망 규제"
   ]
  },
  {
   "cell_type": "code",
   "execution_count": 5,
   "id": "77541113",
   "metadata": {},
   "outputs": [],
   "source": [
    "from tensorflow import keras\n",
    "conv_layer = keras.layers.Conv2D(\n",
    "    filters=16,\n",
    "    kernel_size=(3,3),\n",
    "    kernel_regularizer=keras.regularizers.l2(0.001))\n",
    "fc_layer = keras.layers.Dense(\n",
    "    units=16,\n",
    "    kernel_regularizer=keras.regularizers.l2(0.001))"
   ]
  },
  {
   "cell_type": "markdown",
   "id": "46557224",
   "metadata": {},
   "source": [
    "### 15.2.3 분류를 위한 손실 함수"
   ]
  },
  {
   "cell_type": "code",
   "execution_count": 6,
   "id": "0ac1a3fa",
   "metadata": {},
   "outputs": [
    {
     "name": "stdout",
     "output_type": "stream",
     "text": [
      "BCE (확률): 0.3711 (로짓): 0.3711\r\n"
     ]
    }
   ],
   "source": [
    "import tensorflow_datasets as tfds\n",
    "import tensorflow as tf\n",
    "\n",
    "## 이진 크로스 엔트로피\n",
    "bce_probas = tf.keras.losses.BinaryCrossentropy(from_logits=False)\n",
    "bce_logits = tf.keras.losses.BinaryCrossentropy(from_logits=True)\n",
    "logits = tf.constant([0.8])\n",
    "probas = tf.keras.activations.sigmoid(logits)\n",
    "tf.print(\n",
    "    'BCE (확률): {:.4f}'.format(\n",
    "    bce_probas(y_true=[1], y_pred=probas)),\n",
    "    '(로짓): {:.4f}'.format(\n",
    "    bce_logits(y_true=[1], y_pred=logits)))"
   ]
  },
  {
   "cell_type": "code",
   "execution_count": 7,
   "id": "b39c4969",
   "metadata": {},
   "outputs": [
    {
     "name": "stdout",
     "output_type": "stream",
     "text": [
      "CCE (확률): 0.5996 (로짓): 0.5996\r\n"
     ]
    },
    {
     "name": "stderr",
     "output_type": "stream",
     "text": [
      "C:\\Users\\us\\AppData\\Local\\Temp\\ipykernel_4440\\921979979.py:12: DeprecationWarning: distutils Version classes are deprecated. Use packaging.version instead.\n",
      "  if Version(tf.__version__) >= '2.3.0':\n"
     ]
    }
   ],
   "source": [
    "from distutils.version import LooseVersion as Version\n",
    "\n",
    "####### 범주형 크로스 엔트로피\n",
    "cce_probas = tf.keras.losses.CategoricalCrossentropy(\n",
    "    from_logits=False)\n",
    "cce_logits = tf.keras.losses.CategoricalCrossentropy(\n",
    "    from_logits=True)\n",
    "\n",
    "logits = tf.constant([[1.5, 0.8, 2.1]])\n",
    "probas = tf.keras.activations.softmax(logits)\n",
    "\n",
    "if Version(tf.__version__) >= '2.3.0':\n",
    "    tf.print(\n",
    "        'CCE (확률): {:.4f}'.format(\n",
    "        cce_probas(y_true=[[0, 0, 1]], y_pred=probas)),\n",
    "        '(로짓): {:.4f}'.format(\n",
    "        cce_logits(y_true=[[0, 0, 1]], y_pred=logits)))\n",
    "else:\n",
    "    tf.print(\n",
    "        'CCE (확률): {:.4f}'.format(\n",
    "        cce_probas(y_true=[0, 0, 1], y_pred=probas)),\n",
    "        '(로짓): {:.4f}'.format(\n",
    "        cce_logits(y_true=[0, 0, 1], y_pred=logits)))"
   ]
  },
  {
   "cell_type": "code",
   "execution_count": 8,
   "id": "1aff3752",
   "metadata": {},
   "outputs": [
    {
     "name": "stdout",
     "output_type": "stream",
     "text": [
      "Sparse CCE (확률): 0.5996 (로짓): 0.5996\r\n"
     ]
    }
   ],
   "source": [
    "## 희소 범주형 크로스 엔트로피\n",
    "sp_cce_probas = tf.keras.losses.SparseCategoricalCrossentropy(from_logits=False)\n",
    "sp_cce_logits = tf.keras.losses.SparseCategoricalCrossentropy(from_logits=True)\n",
    "tf.print(\n",
    "    'Sparse CCE (확률): {:.4f}'.format(sp_cce_probas(y_true=[2], y_pred=probas)),\n",
    "    '(로짓): {:.4f}'.format(sp_cce_logits(y_true=[2], y_pred=logits)) )"
   ]
  },
  {
   "cell_type": "markdown",
   "id": "49d96bec",
   "metadata": {},
   "source": [
    "### 15.3 텐서플로를 사용하여 심층 합성곱 신경망 구현"
   ]
  },
  {
   "cell_type": "markdown",
   "id": "abb26585",
   "metadata": {},
   "source": [
    "### 15.3.2 데이터 적재와 전처리"
   ]
  },
  {
   "cell_type": "code",
   "execution_count": 9,
   "id": "a88d727e",
   "metadata": {},
   "outputs": [],
   "source": [
    "import tensorflow_datasets as tfds\n",
    "## 데이터 적재\n",
    "mnist_bldr = tfds.builder('mnist')\n",
    "mnist_bldr.download_and_prepare()\n",
    "datasets = mnist_bldr.as_dataset(shuffle_files=False)\n",
    "mnist_train_orig = datasets['train']\n",
    "mnist_test_orig = datasets['test']"
   ]
  },
  {
   "cell_type": "code",
   "execution_count": 10,
   "id": "c4bec294",
   "metadata": {},
   "outputs": [],
   "source": [
    "BUFFER_SIZE = 10000\n",
    "BATCH_SIZE = 64\n",
    "NUM_EPOCHS = 20\n",
    "mnist_train = mnist_train_orig.map(lambda item: (tf.cast(item['image'], tf.float32)/255.0,\n",
    "                                                  tf.cast(item['label'], tf.int32)))\n",
    "mnist_test = mnist_test_orig.map(lambda item: (tf.cast(item['image'], tf.float32)/255.0,\n",
    "                                                tf.cast(item['label'], tf.int32)))\n",
    "tf.random.set_seed(1)\n",
    "mnist_train = mnist_train.shuffle(buffer_size=BUFFER_SIZE,\n",
    "                                  reshuffle_each_iteration=False)\n",
    "mnist_valid = mnist_train.take(10000).batch(BATCH_SIZE)\n",
    "mnist_train = mnist_train.skip(10000).batch(BATCH_SIZE)"
   ]
  },
  {
   "cell_type": "markdown",
   "id": "f2168ce5",
   "metadata": {},
   "source": [
    "### 15.3.3 텐서플로 케라스 API를 사용하여 CNN 구현"
   ]
  },
  {
   "cell_type": "markdown",
   "id": "9f8b8093",
   "metadata": {},
   "source": [
    "케라스로 CNN 구성하기"
   ]
  },
  {
   "cell_type": "code",
   "execution_count": 16,
   "id": "e8de11e9",
   "metadata": {},
   "outputs": [],
   "source": [
    "# Sequential 클래스를 사용하고 합성곱과 풀링 층 추가\n",
    "model = tf.keras.Sequential()\n",
    "model.add(tf.keras.layers.Conv2D(filters=32, kernel_size=(5, 5), strides=(1, 1), padding='same', data_format='channels_last',\n",
    "                                name='conv_1', activation='relu'))\n",
    "model.add(tf.keras.layers.MaxPool2D(pool_size=(2, 2), name='pool_1'))\n",
    "model.add(tf.keras.layers.Conv2D(filters=64, kernel_size=(5, 5), strides=(1, 1), padding='same', name='conv_2',\n",
    "                                 activation='relu'))\n",
    "model.add(tf.keras.layers.MaxPool2D(pool_size=(2, 2), name='pool_2'))"
   ]
  },
  {
   "cell_type": "code",
   "execution_count": 17,
   "id": "92427a24",
   "metadata": {},
   "outputs": [
    {
     "data": {
      "text/plain": [
       "TensorShape([16, 7, 7, 64])"
      ]
     },
     "execution_count": 17,
     "metadata": {},
     "output_type": "execute_result"
    }
   ],
   "source": [
    "model.compute_output_shape(input_shape=(16, 28, 28, 1))"
   ]
  },
  {
   "cell_type": "code",
   "execution_count": 18,
   "id": "59f076a8",
   "metadata": {},
   "outputs": [
    {
     "data": {
      "text/plain": [
       "TensorShape([16, 3136])"
      ]
     },
     "execution_count": 18,
     "metadata": {},
     "output_type": "execute_result"
    }
   ],
   "source": [
    "# 밀집 완결층 추가\n",
    "model.add(tf.keras.layers.Flatten())\n",
    "model.compute_output_shape(input_shape=(16, 28, 28, 1))"
   ]
  },
  {
   "cell_type": "code",
   "execution_count": 19,
   "id": "06351aa7",
   "metadata": {},
   "outputs": [],
   "source": [
    "# 드롭아웃 추가\n",
    "model.add(tf.keras.layers.Dense(\n",
    "    units=1024, name='fc_1', \n",
    "    activation='relu'))\n",
    "\n",
    "model.add(tf.keras.layers.Dropout(\n",
    "    rate=0.5))\n",
    "    \n",
    "model.add(tf.keras.layers.Dense(\n",
    "    units=10, name='fc_2',\n",
    "    activation='softmax'))"
   ]
  },
  {
   "cell_type": "code",
   "execution_count": 20,
   "id": "ea5ad6b3",
   "metadata": {},
   "outputs": [],
   "source": [
    "# 손실함수 SparseCategoricalCrossentropy\n",
    "tf.random.set_seed(1)\n",
    "model.build(input_shape=(None, 28, 28, 1))\n",
    "model.compile(optimizer=tf.keras.optimizers.Adam(),\n",
    "              loss=tf.keras.losses.SparseCategoricalCrossentropy(),\n",
    "              metrics=['accuracy'])"
   ]
  },
  {
   "cell_type": "code",
   "execution_count": 22,
   "id": "5c7aa25d",
   "metadata": {},
   "outputs": [
    {
     "name": "stdout",
     "output_type": "stream",
     "text": [
      "Epoch 1/20\n",
      "782/782 [==============================] - 29s 36ms/step - loss: 0.0134 - accuracy: 0.9956 - val_loss: 0.0367 - val_accuracy: 0.9903\n",
      "Epoch 2/20\n",
      "782/782 [==============================] - 28s 36ms/step - loss: 0.0102 - accuracy: 0.9966 - val_loss: 0.0398 - val_accuracy: 0.9913\n",
      "Epoch 3/20\n",
      "782/782 [==============================] - 28s 36ms/step - loss: 0.0081 - accuracy: 0.9977 - val_loss: 0.0480 - val_accuracy: 0.9903\n",
      "Epoch 4/20\n",
      "782/782 [==============================] - 28s 36ms/step - loss: 0.0089 - accuracy: 0.9974 - val_loss: 0.0502 - val_accuracy: 0.9902\n",
      "Epoch 5/20\n",
      "782/782 [==============================] - 28s 36ms/step - loss: 0.0082 - accuracy: 0.9974 - val_loss: 0.0538 - val_accuracy: 0.9900\n",
      "Epoch 6/20\n",
      "782/782 [==============================] - 28s 36ms/step - loss: 0.0076 - accuracy: 0.9977 - val_loss: 0.0545 - val_accuracy: 0.9899\n",
      "Epoch 7/20\n",
      "782/782 [==============================] - 28s 36ms/step - loss: 0.0078 - accuracy: 0.9974 - val_loss: 0.0460 - val_accuracy: 0.9912\n",
      "Epoch 8/20\n",
      "782/782 [==============================] - 28s 36ms/step - loss: 0.0060 - accuracy: 0.9982 - val_loss: 0.0501 - val_accuracy: 0.9910\n",
      "Epoch 9/20\n",
      "782/782 [==============================] - 28s 36ms/step - loss: 0.0049 - accuracy: 0.9985 - val_loss: 0.0570 - val_accuracy: 0.9906\n",
      "Epoch 10/20\n",
      "782/782 [==============================] - 28s 36ms/step - loss: 0.0063 - accuracy: 0.9982 - val_loss: 0.0678 - val_accuracy: 0.9894\n",
      "Epoch 11/20\n",
      "782/782 [==============================] - 28s 36ms/step - loss: 0.0083 - accuracy: 0.9977 - val_loss: 0.0626 - val_accuracy: 0.9894\n",
      "Epoch 12/20\n",
      "782/782 [==============================] - 28s 36ms/step - loss: 0.0055 - accuracy: 0.9984 - val_loss: 0.0645 - val_accuracy: 0.9906\n",
      "Epoch 13/20\n",
      "782/782 [==============================] - 28s 36ms/step - loss: 0.0054 - accuracy: 0.9984 - val_loss: 0.0547 - val_accuracy: 0.9918\n",
      "Epoch 14/20\n",
      "782/782 [==============================] - 29s 37ms/step - loss: 0.0078 - accuracy: 0.9977 - val_loss: 0.0591 - val_accuracy: 0.9916\n",
      "Epoch 15/20\n",
      "782/782 [==============================] - 28s 36ms/step - loss: 0.0043 - accuracy: 0.9987 - val_loss: 0.0646 - val_accuracy: 0.9908\n",
      "Epoch 16/20\n",
      "782/782 [==============================] - 30s 38ms/step - loss: 0.0043 - accuracy: 0.9989 - val_loss: 0.0594 - val_accuracy: 0.9919\n",
      "Epoch 17/20\n",
      "782/782 [==============================] - 30s 38ms/step - loss: 0.0049 - accuracy: 0.9987 - val_loss: 0.0565 - val_accuracy: 0.9916\n",
      "Epoch 18/20\n",
      "782/782 [==============================] - 30s 38ms/step - loss: 0.0052 - accuracy: 0.9985 - val_loss: 0.0614 - val_accuracy: 0.9914\n",
      "Epoch 19/20\n",
      "782/782 [==============================] - 29s 37ms/step - loss: 0.0055 - accuracy: 0.9983 - val_loss: 0.0775 - val_accuracy: 0.9908\n",
      "Epoch 20/20\n",
      "782/782 [==============================] - 29s 38ms/step - loss: 0.0055 - accuracy: 0.9982 - val_loss: 0.0747 - val_accuracy: 0.9913\n"
     ]
    }
   ],
   "source": [
    "history = model.fit(mnist_train, epochs=NUM_EPOCHS,\n",
    "                    validation_data=mnist_valid,\n",
    "                    shuffle=True)"
   ]
  },
  {
   "cell_type": "code",
   "execution_count": 24,
   "id": "356c5fad",
   "metadata": {},
   "outputs": [
    {
     "data": {
      "image/png": "[encoded data removed]",
      "text/plain": [
       "<Figure size 1200x400 with 2 Axes>"
      ]
     },
     "metadata": {},
     "output_type": "display_data"
    }
   ],
   "source": [
    "import matplotlib.pyplot as plt\n",
    "hist = history.history\n",
    "x_arr = np.arange(len(hist['loss'])) + 1\n",
    "fig = plt.figure(figsize=(12, 4))\n",
    "ax = fig.add_subplot(1, 2, 1)\n",
    "ax.plot(x_arr, hist['loss'], '-o', label='Train loss')\n",
    "ax.plot(x_arr, hist['val_loss'], '--<', label='Validation loss')\n",
    "ax.set_xlabel('Epoch', size=15)\n",
    "ax.set_ylabel('Loss', size=15)\n",
    "ax.legend(fontsize=15)\n",
    "ax = fig.add_subplot(1, 2, 2)\n",
    "ax.plot(x_arr, hist['accuracy'], '-o', label='Train acc.')\n",
    "ax.plot(x_arr, hist['val_accuracy'], '--<', label='Validation acc.')\n",
    "ax.legend(fontsize=15)\n",
    "ax.set_xlabel('Epoch', size=15)\n",
    "ax.set_ylabel('Accuracy, size=15')\n",
    "plt.show()"
   ]
  },
  {
   "cell_type": "code",
   "execution_count": 25,
   "id": "817d3e9e",
   "metadata": {},
   "outputs": [
    {
     "name": "stdout",
     "output_type": "stream",
     "text": [
      "500/500 [==============================] - 2s 5ms/step - loss: 0.0654 - accuracy: 0.9915\n",
      "테스트 정확도: 99.15\\%\n"
     ]
    }
   ],
   "source": [
    "test_results = model.evaluate(mnist_test.batch(20))\n",
    "print('테스트 정확도: {:.2f}\\%'.format(test_results[1]*100))"
   ]
  },
  {
   "cell_type": "code",
   "execution_count": 26,
   "id": "d8cf082c",
   "metadata": {},
   "outputs": [
    {
     "name": "stdout",
     "output_type": "stream",
     "text": [
      "TensorShape([12, 10])\r\n"
     ]
    }
   ],
   "source": [
    "batch_test = next(iter(mnist_test.batch(12)))\n",
    "preds = model(batch_test[0])\n",
    "tf.print(preds.shape)"
   ]
  },
  {
   "cell_type": "code",
   "execution_count": 27,
   "id": "88454adc",
   "metadata": {},
   "outputs": [
    {
     "name": "stdout",
     "output_type": "stream",
     "text": [
      "tf.Tensor([2 0 4 8 7 6 0 6 3 1 8 0], shape=(12,), dtype=int64)\n"
     ]
    }
   ],
   "source": [
    "preds = tf.argmax(preds, axis=1)\n",
    "print(preds)"
   ]
  },
  {
   "cell_type": "code",
   "execution_count": 29,
   "id": "8bffb319",
   "metadata": {},
   "outputs": [
    {
     "name": "stdout",
     "output_type": "stream",
     "text": [
      "TensorShape([12, 10])\n",
      "tf.Tensor([2 0 4 8 7 6 0 6 3 1 8 0], shape=(12,), dtype=int64)\n"
     ]
    },
    {
     "data": {
      "image/png": "[encoded data removed]",
      "text/plain": [
       "<Figure size 1200x400 with 12 Axes>"
      ]
     },
     "metadata": {},
     "output_type": "display_data"
    }
   ],
   "source": [
    "batch_test = next(iter(mnist_test.batch(12)))\n",
    "\n",
    "preds = model(batch_test[0])\n",
    "\n",
    "tf.print(preds.shape)\n",
    "preds = tf.argmax(preds, axis=1)\n",
    "print(preds)\n",
    "\n",
    "fig = plt.figure(figsize=(12, 4))\n",
    "for i in range(12):\n",
    "    ax = fig.add_subplot(2, 6, i+1)\n",
    "    ax.set_xticks([]); ax.set_yticks([])\n",
    "    img = batch_test[0][i, :, :, 0]\n",
    "    ax.imshow(img, cmap='gray_r')\n",
    "    ax.text(0.9, 0.1, '{}'.format(preds[i]), \n",
    "            size=15, color='blue',\n",
    "            horizontalalignment='center',\n",
    "            verticalalignment='center', \n",
    "            transform=ax.transAxes)\n",
    "    \n",
    "#plt.savefig('images/15_13.png', dpi=300)\n",
    "plt.show()"
   ]
  },
  {
   "cell_type": "code",
   "execution_count": null,
   "id": "7412f299",
   "metadata": {},
   "outputs": [],
   "source": []
  }
 ],
 "metadata": {
  "kernelspec": {
   "display_name": "Python 3 (ipykernel)",
   "language": "python",
   "name": "python3"
  },
  "language_info": {
   "codemirror_mode": {
    "name": "ipython",
    "version": 3
   },
   "file_extension": ".py",
   "mimetype": "text/x-python",
   "name": "python",
   "nbconvert_exporter": "python",
   "pygments_lexer": "ipython3",
   "version": "3.9.15"
  }
 },
 "nbformat": 4,
 "nbformat_minor": 5
}
