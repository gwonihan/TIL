{
  "nbformat": 4,
  "nbformat_minor": 0,
  "metadata": {
    "colab": {
      "provenance": [],
      "collapsed_sections": [],
      "toc_visible": true
    },
    "kernelspec": {
      "name": "python3",
      "display_name": "Python 3"
    },
    "language_info": {
      "name": "python"
    },
    "gpuClass": "standard"
  },
  "cells": [
    {
      "cell_type": "markdown",
      "source": [
        "# Chapter 4.신경망 학습"
      ],
      "metadata": {
        "id": "vloIe5JBR8ue"
      }
    },
    {
      "cell_type": "markdown",
      "source": [
        "## 4.2 손실함수"
      ],
      "metadata": {
        "id": "ATaqLTSUy4GP"
      }
    },
    {
      "cell_type": "markdown",
      "source": [
        "### 4.2.1 오차제곱합"
      ],
      "metadata": {
        "id": "WXc76v6SxJuA"
      }
    },
    {
      "cell_type": "code",
      "execution_count": 1,
      "metadata": {
        "id": "Ex000OtXR6l1"
      },
      "outputs": [],
      "source": [
        "import numpy as np\n",
        "def sum_squares_error(y, t):\n",
        "  return 0.5 * np.sum((y-t)**2)"
      ]
    },
    {
      "cell_type": "code",
      "source": [
        "# 정답은 '2'\n",
        "t = [0, 0, 1, 0, 0, 0, 0, 0, 0, 0]\n",
        "\n",
        "# 예 1: '2'일 확률이 가장 높다고 추정함(0.6)\n",
        "y = [0.1, 0.05, 0.6, 0.0, 0.05, 0.1, 0.0, 0.1, 0.0, 0.0]\n",
        "sum_squares_error(np.array(y), np.array(t))"
      ],
      "metadata": {
        "colab": {
          "base_uri": "https://localhost:8080/"
        },
        "id": "4sChOGNTxaTJ",
        "outputId": "6d81e480-ac0c-43e6-f828-a68cf042bb18"
      },
      "execution_count": 2,
      "outputs": [
        {
          "output_type": "execute_result",
          "data": {
            "text/plain": [
              "0.09750000000000003"
            ]
          },
          "metadata": {},
          "execution_count": 2
        }
      ]
    },
    {
      "cell_type": "code",
      "source": [
        "# 예2 : '7'일 확률이 가장 높다고 추정함(0.6)\n",
        "y = [0.1, 0.05, 0.1, 0.0, 0.05, 0.1, 0.0, 0.6, 0.0, 0.0]\n",
        "sum_squares_error(np.array(y), np.array(t))"
      ],
      "metadata": {
        "colab": {
          "base_uri": "https://localhost:8080/"
        },
        "id": "-oo3PaNUyH8e",
        "outputId": "08c403e2-34b3-4fc5-e3ae-00dc638b44d3"
      },
      "execution_count": 3,
      "outputs": [
        {
          "output_type": "execute_result",
          "data": {
            "text/plain": [
              "0.5975"
            ]
          },
          "metadata": {},
          "execution_count": 3
        }
      ]
    },
    {
      "cell_type": "markdown",
      "source": [
        "### 4.2.2 교차 엔트로피 오차"
      ],
      "metadata": {
        "id": "xDwJttD_yyJm"
      }
    },
    {
      "cell_type": "code",
      "source": [
        "def cross_entropy_error(y, t):\n",
        "  delta = 1e-7\n",
        "  return -np.sum(t * np.log(y + delta)) # np.log() 함수에 0을 입력하면 마이너스 무한대를 뜻하는 -inf가 되어 더 이상 계산을 진행할 수 없기 때문에\n",
        "                                        # 아주 작은 값인 delta를 더해서 절대 0이 되지 않도록, 즉 마이너스 무한대가 발생하지 않도록 한 것이다. "
      ],
      "metadata": {
        "id": "Y8lQAm8Dyiw2"
      },
      "execution_count": 4,
      "outputs": []
    },
    {
      "cell_type": "code",
      "source": [
        "t = [0, 0, 1, 0, 0, 0, 0, 0, 0, 0]\n",
        "y = [0.1, 0.05, 0.6, 0.0, 0.05, 0.1, 0.0, 0.1, 0.0, 0.0]\n",
        "\n",
        "cross_entropy_error(np.array(y), np.array(t))"
      ],
      "metadata": {
        "colab": {
          "base_uri": "https://localhost:8080/"
        },
        "id": "6uu-qBERzc43",
        "outputId": "78f6beda-7a39-45c5-f902-5e18e407e01b"
      },
      "execution_count": 5,
      "outputs": [
        {
          "output_type": "execute_result",
          "data": {
            "text/plain": [
              "0.510825457099338"
            ]
          },
          "metadata": {},
          "execution_count": 5
        }
      ]
    },
    {
      "cell_type": "code",
      "source": [
        "y = [0.1, 0.05, 0.1, 0.0, 0.05, 0.1, 0.0, 0.6, 0.0, 0.0]\n",
        "cross_entropy_error(np.array(y), np.array(t))"
      ],
      "metadata": {
        "colab": {
          "base_uri": "https://localhost:8080/"
        },
        "id": "mCRnWegC0SLg",
        "outputId": "8974198b-d793-424b-9ef3-f1e0db356f5c"
      },
      "execution_count": 6,
      "outputs": [
        {
          "output_type": "execute_result",
          "data": {
            "text/plain": [
              "2.302584092994546"
            ]
          },
          "metadata": {},
          "execution_count": 6
        }
      ]
    },
    {
      "cell_type": "markdown",
      "source": [
        "### 4.2.3 미니배치 학습\n",
        "- 미니배치: 데이터 일부를 추려 전체의 '근사치'로 이용하는 방법"
      ],
      "metadata": {
        "id": "avZLdsOi06Yk"
      }
    },
    {
      "cell_type": "code",
      "source": [
        "import sys, os\n",
        "path = \"/content/drive/MyDrive/Colab Notebooks/밑바닥부터 시작하는 딥려닝/deep-learning-from-scratch-master/dataset\"\n",
        "parent = os.path.join(path, os.pardir)\n",
        "sys.path.append(os.path.abspath(parent))"
      ],
      "metadata": {
        "id": "sPy6B2MA0VTX"
      },
      "execution_count": 7,
      "outputs": []
    },
    {
      "cell_type": "code",
      "source": [
        "from dataset.mnist import load_mnist\n",
        "\n",
        "(x_train, t_train), (x_test, t_test) = load_mnist(normalize=False, one_hot_label=True) # normalize : 입력 이미지의 픽셀 값을 0.0~1.0 사이의 값으로 정규화 할지 여부, False일 경우 원래값 0~255 사이 유지\n",
        "                                                                                 # flatten : 입력 이미지를 1차원 배열로 만들지 여부\n",
        "                                                                                 # one_hot_label : 원-핫 인코딩 형태로 저장할지"
      ],
      "metadata": {
        "id": "x1XQCiHr1ZA-"
      },
      "execution_count": 8,
      "outputs": []
    },
    {
      "cell_type": "code",
      "source": [
        "print(x_train.shape)\n",
        "print(t_train.shape)"
      ],
      "metadata": {
        "colab": {
          "base_uri": "https://localhost:8080/"
        },
        "id": "xvyRq6nP1bbi",
        "outputId": "87a73d83-89e6-489e-82d1-e94633d1a7b8"
      },
      "execution_count": 9,
      "outputs": [
        {
          "output_type": "stream",
          "name": "stdout",
          "text": [
            "(60000, 784)\n",
            "(60000, 10)\n"
          ]
        }
      ]
    },
    {
      "cell_type": "code",
      "source": [
        "train_size = x_train.shape[0]\n",
        "batch_size = 10\n",
        "batch_mask = np.random.choice(train_size, batch_size)\n",
        "x_batch = x_train[batch_mask]\n",
        "t_batch = t_train[batch_mask]"
      ],
      "metadata": {
        "id": "YisI--6A17rT"
      },
      "execution_count": 10,
      "outputs": []
    },
    {
      "cell_type": "code",
      "source": [
        "np.random.choice(60000,10)"
      ],
      "metadata": {
        "colab": {
          "base_uri": "https://localhost:8080/"
        },
        "id": "8hdp5mX43y93",
        "outputId": "43eb5d90-7d1a-4800-e5ee-69262e6e5c6a"
      },
      "execution_count": 11,
      "outputs": [
        {
          "output_type": "execute_result",
          "data": {
            "text/plain": [
              "array([16335, 50821,  9920,  1614, 27676, 25099, 48327, 40345, 10139,\n",
              "       13096])"
            ]
          },
          "metadata": {},
          "execution_count": 11
        }
      ]
    },
    {
      "cell_type": "markdown",
      "source": [
        "### 4.2.4 (배치용) 교차 엔트로피 오차 구현하기"
      ],
      "metadata": {
        "id": "jep7zrtU4HwL"
      }
    },
    {
      "cell_type": "code",
      "source": [
        "# 원핫 인코딩일 경우\n",
        "def cross_entropy_error(y, t):\n",
        "  if y.ndim == 1:\n",
        "    t = t.reshape(1, t.size)\n",
        "    y = y.reshape(1, y.size)\n",
        "\n",
        "  batch_size = y.shape[0]\n",
        "  return -np.sum(t * np.log(y + 1e-7)) / batch_size"
      ],
      "metadata": {
        "id": "cuIZ6Nue316L"
      },
      "execution_count": 12,
      "outputs": []
    },
    {
      "cell_type": "code",
      "source": [
        "# 원핫 인코딩이 아닐 경우\n",
        "def cross_entropy_error(y, t):\n",
        "  if y.ndim == 1:\n",
        "    t = t.reshape(1, t.size)\n",
        "    y = y.reshape(1, y.size)\n",
        "\n",
        "  batch_size = y.shape[0]\n",
        "  return -np.sum(np.log(y[np.arange(batch_size), t] + 1e-7)) / batch_size"
      ],
      "metadata": {
        "id": "nwgweisJhan7"
      },
      "execution_count": 13,
      "outputs": []
    },
    {
      "cell_type": "markdown",
      "source": [
        "## 4.3 수치미분"
      ],
      "metadata": {
        "id": "DiLU0U-zpwJ0"
      }
    },
    {
      "cell_type": "markdown",
      "source": [
        "### 4.3.1 미분"
      ],
      "metadata": {
        "id": "Xo2pNEwZpyB6"
      }
    },
    {
      "cell_type": "code",
      "source": [
        "# 나쁜 구현 예\n",
        "def numerical_diff(f,x):\n",
        "  h = 1e-50                  # h 값은 0.000...1 형태에서 소수점 아래 0이 50개라는 의미\n",
        "  return (f(x+h) - f(x)) / h"
      ],
      "metadata": {
        "id": "-Lg_yqgyp8Hf"
      },
      "execution_count": 14,
      "outputs": []
    },
    {
      "cell_type": "code",
      "source": [
        "np.float32(1e-50)"
      ],
      "metadata": {
        "colab": {
          "base_uri": "https://localhost:8080/"
        },
        "id": "V-zgGF7lhkpD",
        "outputId": "0b8014af-cbcc-4281-8762-e2ed30d58b05"
      },
      "execution_count": 15,
      "outputs": [
        {
          "output_type": "execute_result",
          "data": {
            "text/plain": [
              "0.0"
            ]
          },
          "metadata": {},
          "execution_count": 15
        }
      ]
    },
    {
      "cell_type": "code",
      "source": [
        "# 나쁜 구현의 에에는 오차가 포함된다. 따라서 x를 중심으로 그 전후의 차분을 계산한다는 의미에서 중앙 차분을 이용한다\n",
        "# 차분 : 임의 두 점에서의 함수 값들의 차이를 말한다\n",
        "def numerical_diff(f, x):\n",
        "  h = 1e-4 # 0.0001 좋은 결과를 얻는다고 알려진 값\n",
        "  return (f(x+h) - f(x-h)) / (2*h)"
      ],
      "metadata": {
        "id": "7fHmIeVhqaiw"
      },
      "execution_count": 16,
      "outputs": []
    },
    {
      "cell_type": "markdown",
      "source": [
        "### 4.3.2 수치 미분의 예\n",
        "2차 함수의 미분\n",
        "y = 0.01x**2 + 0.1x"
      ],
      "metadata": {
        "id": "XYIA8CMlsPVi"
      }
    },
    {
      "cell_type": "code",
      "source": [
        "def function_1(x):\n",
        "  return 0.01*x**2 + 0.1*x"
      ],
      "metadata": {
        "id": "iPRI-K3NsOms"
      },
      "execution_count": 17,
      "outputs": []
    },
    {
      "cell_type": "code",
      "source": [
        "import numpy as np\n",
        "import matplotlib.pylab as plt\n",
        "\n",
        "x = np.arange(0.0, 20.0, 0.1)  # 0에서 20까지 0.1 간격의 배열 x를 만든다.\n",
        "y = function_1(x)\n",
        "plt.xlabel(\"x\")\n",
        "plt.ylabel(\"f(x\")\n",
        "plt.plot(x,y)\n",
        "plt.show()"
      ],
      "metadata": {
        "colab": {
          "base_uri": "https://localhost:8080/",
          "height": 279
        },
        "id": "AgqtOWLwsqm2",
        "outputId": "0ce2f084-2b08-4fd4-84cb-2425227752e3"
      },
      "execution_count": 18,
      "outputs": [
        {
          "output_type": "display_data",
          "data": {
            "text/plain": [
              "<Figure size 432x288 with 1 Axes>"
            ],
            "image/png": "[encoded data removed]"
          },
          "metadata": {
            "needs_background": "light"
          }
        }
      ]
    },
    {
      "cell_type": "code",
      "source": [
        "numerical_diff(function_1,5)"
      ],
      "metadata": {
        "colab": {
          "base_uri": "https://localhost:8080/"
        },
        "id": "OZVGuV00s6QP",
        "outputId": "43a231fe-4315-4d51-ff94-41c7d5f5a7bf"
      },
      "execution_count": 19,
      "outputs": [
        {
          "output_type": "execute_result",
          "data": {
            "text/plain": [
              "0.1999999999990898"
            ]
          },
          "metadata": {},
          "execution_count": 19
        }
      ]
    },
    {
      "cell_type": "code",
      "source": [
        "numerical_diff(function_1,10)"
      ],
      "metadata": {
        "colab": {
          "base_uri": "https://localhost:8080/"
        },
        "id": "keGuQskytTpt",
        "outputId": "6ef57b20-eaab-42f0-9d5f-69b05c2a6fa8"
      },
      "execution_count": 20,
      "outputs": [
        {
          "output_type": "execute_result",
          "data": {
            "text/plain": [
              "0.2999999999986347"
            ]
          },
          "metadata": {},
          "execution_count": 20
        }
      ]
    },
    {
      "cell_type": "markdown",
      "source": [
        "### 4.3.3 편미분\n",
        "편미분 : 변수가 여럿인 함수에 대한 미분"
      ],
      "metadata": {
        "id": "xejXP_VAtmfY"
      }
    },
    {
      "cell_type": "code",
      "source": [
        "# 변수가 2개인 함수\n",
        "def function_2(x):\n",
        "  return x[0]**2 + x[1]**2\n",
        "  # 또는 return np.sum(x**2)"
      ],
      "metadata": {
        "id": "qy73zVsrthWq"
      },
      "execution_count": 21,
      "outputs": []
    },
    {
      "cell_type": "code",
      "source": [
        "# x0 = 3, x1 = 4 일때, x0에 대한 편미분을 구하라\n",
        "def function_tmp1(x0):\n",
        "  return x0*x0 + 4.0**2.0"
      ],
      "metadata": {
        "id": "rm8tt7fquTEI"
      },
      "execution_count": 22,
      "outputs": []
    },
    {
      "cell_type": "code",
      "source": [
        "numerical_diff(function_tmp1, 3.0)"
      ],
      "metadata": {
        "colab": {
          "base_uri": "https://localhost:8080/"
        },
        "id": "MJZTzol9ucbY",
        "outputId": "f18fbd75-ae08-4d3d-82c6-41f940bc2f0c"
      },
      "execution_count": 23,
      "outputs": [
        {
          "output_type": "execute_result",
          "data": {
            "text/plain": [
              "6.00000000000378"
            ]
          },
          "metadata": {},
          "execution_count": 23
        }
      ]
    },
    {
      "cell_type": "code",
      "source": [
        "# x0 = 3, x1 = 4 일 때, x1에 대한 편미분을 구하라\n",
        "def function_tmp2(x1):\n",
        "  return 3.0**2.0 + x1*x1"
      ],
      "metadata": {
        "id": "_9OlNiYaufSV"
      },
      "execution_count": 24,
      "outputs": []
    },
    {
      "cell_type": "code",
      "source": [
        "numerical_diff(function_tmp2, 4.0)"
      ],
      "metadata": {
        "colab": {
          "base_uri": "https://localhost:8080/"
        },
        "id": "791WvcBhur69",
        "outputId": "cdcb7a99-67e8-4c98-b523-a34e8a7eef2d"
      },
      "execution_count": 25,
      "outputs": [
        {
          "output_type": "execute_result",
          "data": {
            "text/plain": [
              "7.999999999999119"
            ]
          },
          "metadata": {},
          "execution_count": 25
        }
      ]
    },
    {
      "cell_type": "markdown",
      "source": [
        "## 4.4 기울기\n",
        "기울기(gradient) : 모든 변수의 편미분을 벡터로 정리한 것"
      ],
      "metadata": {
        "id": "vjc3kbHUvAmK"
      }
    },
    {
      "cell_type": "code",
      "source": [
        "def numerical_gradient(f, x):\n",
        "  h = 1e-4\n",
        "  grad = np.zeros_like(x) # x와 형상이 같은 배열을 생성\n",
        "  \n",
        "  for idx in range(x.size):\n",
        "    tmp_val = x[idx]\n",
        "    \n",
        "    # f(x+h) 계산\n",
        "    x[idx] = tmp_val + h\n",
        "    fxh1 = f(x)\n",
        "\n",
        "    # f(x-h) 계산\n",
        "    x[idx] = tmp_val - h\n",
        "    fxh2 = f(x)\n",
        "\n",
        "    grad[idx] = (fxh1 - fxh2) / (2*h)\n",
        "    x[idx] = tmp_val # 값 복원\n",
        "  \n",
        "  return grad"
      ],
      "metadata": {
        "id": "eH9m92FIuwkT"
      },
      "execution_count": 26,
      "outputs": []
    },
    {
      "cell_type": "code",
      "source": [
        "# (3, 4), (0, 2), (3, 0) 에서의 기울기 구하기\n",
        "print(numerical_gradient(function_2, np.array([3.0, 4.0])))\n",
        "print(numerical_gradient(function_2, np.array([0.0, 2.0])))\n",
        "print(numerical_gradient(function_2, np.array([3.0, 0.0])))"
      ],
      "metadata": {
        "colab": {
          "base_uri": "https://localhost:8080/"
        },
        "id": "RUY7jFvNvtye",
        "outputId": "882503cb-4efc-45df-8374-e077ce579ba0"
      },
      "execution_count": 27,
      "outputs": [
        {
          "output_type": "stream",
          "name": "stdout",
          "text": [
            "[6. 8.]\n",
            "[0. 4.]\n",
            "[6. 0.]\n"
          ]
        }
      ]
    },
    {
      "cell_type": "code",
      "source": [
        "import numpy as np\n",
        "import matplotlib.pylab as plt\n",
        "from mpl_toolkits.mplot3d import Axes3D\n",
        "\n",
        "\n",
        "def _numerical_gradient_no_batch(f, x):\n",
        "    h = 1e-4 # 0.0001\n",
        "    grad = np.zeros_like(x) # x와 형상이 같은 배열을 생성\n",
        "    \n",
        "    for idx in range(x.size):\n",
        "        tmp_val = x[idx]\n",
        "        \n",
        "        # f(x+h) 계산\n",
        "        x[idx] = float(tmp_val) + h\n",
        "        fxh1 = f(x)\n",
        "        \n",
        "        # f(x-h) 계산\n",
        "        x[idx] = tmp_val - h \n",
        "        fxh2 = f(x) \n",
        "        \n",
        "        grad[idx] = (fxh1 - fxh2) / (2*h)\n",
        "        x[idx] = tmp_val # 값 복원\n",
        "        \n",
        "    return grad\n",
        "\n",
        "\n",
        "def numerical_gradient(f, X):\n",
        "    if X.ndim == 1:\n",
        "        return _numerical_gradient_no_batch(f, X)\n",
        "    else:\n",
        "        grad = np.zeros_like(X)\n",
        "        \n",
        "        for idx, x in enumerate(X):\n",
        "            grad[idx] = _numerical_gradient_no_batch(f, x)\n",
        "        \n",
        "        return grad\n",
        "\n",
        "\n",
        "def function_2(x):\n",
        "    if x.ndim == 1:\n",
        "        return np.sum(x**2)\n",
        "    else:\n",
        "        return np.sum(x**2, axis=1)\n",
        "\n",
        "\n",
        "def tangent_line(f, x):\n",
        "    d = numerical_gradient(f, x)\n",
        "    print(d)\n",
        "    y = f(x) - d*x\n",
        "    return lambda t: d*t + y\n",
        "     \n",
        "if __name__ == '__main__':\n",
        "    x0 = np.arange(-2, 2.5, 0.25)\n",
        "    x1 = np.arange(-2, 2.5, 0.25)\n",
        "    X, Y = np.meshgrid(x0, x1)\n",
        "    \n",
        "    X = X.flatten()\n",
        "    Y = Y.flatten()\n",
        "    \n",
        "    grad = numerical_gradient(function_2, np.array([X, Y]) )\n",
        "    \n",
        "    plt.figure()\n",
        "    plt.quiver(X, Y, -grad[0], -grad[1],  angles=\"xy\",color=\"#666666\")#,headwidth=10,scale=40,color=\"#444444\")\n",
        "    plt.xlim([-2, 2])\n",
        "    plt.ylim([-2, 2])\n",
        "    plt.xlabel('x0')\n",
        "    plt.ylabel('x1')\n",
        "    plt.grid()\n",
        "    plt.legend()\n",
        "    plt.draw()\n",
        "    plt.show()"
      ],
      "metadata": {
        "colab": {
          "base_uri": "https://localhost:8080/",
          "height": 301
        },
        "id": "odPtWUltv7WL",
        "outputId": "1d8daaed-509e-4168-ec07-3a314b6da4b5"
      },
      "execution_count": 28,
      "outputs": [
        {
          "output_type": "stream",
          "name": "stderr",
          "text": [
            "WARNING:matplotlib.legend:No handles with labels found to put in legend.\n"
          ]
        },
        {
          "output_type": "display_data",
          "data": {
            "text/plain": [
              "<Figure size 432x288 with 1 Axes>"
            ],
            "image/png": "[encoded data removed]"
          },
          "metadata": {
            "needs_background": "light"
          }
        }
      ]
    },
    {
      "cell_type": "markdown",
      "source": [
        "기울기가 가리키는 쪽은 각 장소에서 함수의 출력 값을 가장 크게 줄이는 방향이다"
      ],
      "metadata": {
        "id": "tvg0peCBwcAt"
      }
    },
    {
      "cell_type": "markdown",
      "source": [
        "### 4.4.1 경사법(경사 하강법)\n",
        "경사법 : 현 위치에서 기울어진 방향으로 일정 거리만큼 이동한다. 그런 다음 이동한 곳에서도 마찬가지로 기울기를 구하고, 또 그 기울어진 방향으로 나아가기를 반복한다. 이렇게 해서 함수의 값을 점차 줄이는 것을 경사법이라 한다."
      ],
      "metadata": {
        "id": "ZIhSg_6ewg8t"
      }
    },
    {
      "cell_type": "code",
      "source": [
        "# 경사 하강법의 구현, f : 최적화 하려는 함수, init_x : 초깃값, lr : learning rate, step_num : 경사법에 따른 반복 횟수\n",
        "def gradient_descent(f, init_x, lr=0.01, step_num=100):\n",
        "  x = init_x\n",
        "\n",
        "  for i in range(step_num):\n",
        "    grad = numerical_gradient(f, x)\n",
        "    x -= lr * grad\n",
        "  return x"
      ],
      "metadata": {
        "id": "e5MJblZzwaFg"
      },
      "execution_count": 29,
      "outputs": []
    },
    {
      "cell_type": "code",
      "source": [
        "# 경사법으로 x0 ** 2 + x1 ** 2의 최솟값을 구하라\n",
        "def function_2(x):\n",
        "  return x[0]**2 + x[1]**2\n",
        "\n",
        "init_x = np.array([-3.0, 4.0])\n",
        "gradient_descent(function_2, init_x=init_x, lr=0.1, step_num=100)\n",
        "# >> 거의 (0, 0)에 가까운 결과이다"
      ],
      "metadata": {
        "colab": {
          "base_uri": "https://localhost:8080/"
        },
        "id": "Z7CGHslCxkca",
        "outputId": "7b1ce987-b0cc-4759-af2a-cb3e85612551"
      },
      "execution_count": 30,
      "outputs": [
        {
          "output_type": "execute_result",
          "data": {
            "text/plain": [
              "array([-6.11110793e-10,  8.14814391e-10])"
            ]
          },
          "metadata": {},
          "execution_count": 30
        }
      ]
    },
    {
      "cell_type": "markdown",
      "source": [
        "![image.png](data:image/png;base64,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)"
      ],
      "metadata": {
        "id": "zbptqVLh0eZm"
      }
    },
    {
      "cell_type": "code",
      "source": [
        "# 학습률이 너무 큰 예: lr=10.0\n",
        "init_x = np.array([-3.0, 4.0])\n",
        "gradient_descent(function_2, init_x=init_x, lr=10.0, step_num=100)"
      ],
      "metadata": {
        "colab": {
          "base_uri": "https://localhost:8080/"
        },
        "id": "1fgcPVBczlUF",
        "outputId": "ac136c33-1206-46f0-9d10-7486df71a3ef"
      },
      "execution_count": 31,
      "outputs": [
        {
          "output_type": "execute_result",
          "data": {
            "text/plain": [
              "array([-2.58983747e+13, -1.29524862e+12])"
            ]
          },
          "metadata": {},
          "execution_count": 31
        }
      ]
    },
    {
      "cell_type": "code",
      "source": [
        "# 학습률이 너무 작은 예: lr=1e-10\n",
        "init_x = np.array([-3.0, 4.0])\n",
        "gradient_descent(function_2, init_x=init_x, lr=1e-10, step_num=100)"
      ],
      "metadata": {
        "colab": {
          "base_uri": "https://localhost:8080/"
        },
        "id": "WV2Bf8RazkgG",
        "outputId": "e19cfaa6-7ae9-45ee-806f-8bc5e74469fd"
      },
      "execution_count": 32,
      "outputs": [
        {
          "output_type": "execute_result",
          "data": {
            "text/plain": [
              "array([-2.99999994,  3.99999992])"
            ]
          },
          "metadata": {},
          "execution_count": 32
        }
      ]
    },
    {
      "cell_type": "markdown",
      "source": [
        "학습률이 너무 크면 너무 큰 값으로 발산해버리고, 너무 작으면 거의 갱신되지 않은 채 끝나버린다."
      ],
      "metadata": {
        "id": "PVsKksSG0z9r"
      }
    },
    {
      "cell_type": "markdown",
      "source": [
        "### 4.4.2 신경망에서의 기울기"
      ],
      "metadata": {
        "id": "o-3dW8_i-UC-"
      }
    },
    {
      "cell_type": "code",
      "source": [
        "import sys, os\n",
        "path = \"/content/drive/MyDrive/Colab Notebooks/밑바닥부터 시작하는 딥려닝/deep-learning-from-scratch-master/ch04\"\n",
        "parent = os.path.join(path, os.pardir)\n",
        "sys.path.append(os.path.abspath(parent))"
      ],
      "metadata": {
        "id": "p7C6TZ0hCrKZ"
      },
      "execution_count": 33,
      "outputs": []
    },
    {
      "cell_type": "code",
      "source": [
        "import sys, os\n",
        "import numpy as np\n",
        "from common.functions import softmax, cross_entropy_error\n",
        "from common.gradient import numerical_gradient\n",
        "\n",
        "# simpleNet : 형상이 2x3 인 가중치 매개변수 하나를 인스턴스 변수로 갖는다.\n",
        "class simpleNet:\n",
        "  def __init__(self):\n",
        "        self.W = np.random.randn(2,3) # 정규분포로 초기화\n",
        "\n",
        "  # 예측을 수행하는 함수\n",
        "  def predict(self, x):\n",
        "        return np.dot(x, self.W)\n",
        "  \n",
        "  # 손실 함수의 값을 구하는 함수, x : 입력데이터, t : 정답 레이블\n",
        "  def loss(self, x, t):\n",
        "        z = self.predict(x)\n",
        "        y = softmax(z)\n",
        "        loss = cross_entropy_error(y, t)\n",
        "\n",
        "        return loss"
      ],
      "metadata": {
        "id": "hVrxZFuczeyZ"
      },
      "execution_count": 34,
      "outputs": []
    },
    {
      "cell_type": "code",
      "source": [
        "net = simpleNet()\n",
        "print(net.W)"
      ],
      "metadata": {
        "colab": {
          "base_uri": "https://localhost:8080/"
        },
        "id": "b_Sn5-4vyi_o",
        "outputId": "5aac4ff4-4d17-4329-c1dd-aab0b7cb7586"
      },
      "execution_count": 35,
      "outputs": [
        {
          "output_type": "stream",
          "name": "stdout",
          "text": [
            "[[ 0.79832931  1.44429395 -0.71384371]\n",
            " [-1.4933056  -0.2717339  -0.36897713]]\n"
          ]
        }
      ]
    },
    {
      "cell_type": "code",
      "source": [
        "x = np.array([0.6, 0.9])\n",
        "p = net.predict(x)\n",
        "print(p)"
      ],
      "metadata": {
        "colab": {
          "base_uri": "https://localhost:8080/"
        },
        "id": "2wAXnFVfTowm",
        "outputId": "1de22900-2265-4351-8534-b70e0f7075d2"
      },
      "execution_count": 36,
      "outputs": [
        {
          "output_type": "stream",
          "name": "stdout",
          "text": [
            "[-0.86497746  0.62201586 -0.76038564]\n"
          ]
        }
      ]
    },
    {
      "cell_type": "code",
      "source": [
        "np.argmax(p) # 최댓값의 인덱스"
      ],
      "metadata": {
        "colab": {
          "base_uri": "https://localhost:8080/"
        },
        "id": "N6V9tF_KUWrS",
        "outputId": "61e89c87-71cb-4a47-b517-03d96b932a05"
      },
      "execution_count": 37,
      "outputs": [
        {
          "output_type": "execute_result",
          "data": {
            "text/plain": [
              "1"
            ]
          },
          "metadata": {},
          "execution_count": 37
        }
      ]
    },
    {
      "cell_type": "code",
      "source": [
        "t = np.array([0, 0, 1]) # 정답레이블\n",
        "net.loss(x, t)"
      ],
      "metadata": {
        "colab": {
          "base_uri": "https://localhost:8080/"
        },
        "id": "T-1_-P3fUlK_",
        "outputId": "af053aab-4dc6-49b1-974b-08de047ab4db"
      },
      "execution_count": 38,
      "outputs": [
        {
          "output_type": "execute_result",
          "data": {
            "text/plain": [
              "1.7724317951919442"
            ]
          },
          "metadata": {},
          "execution_count": 38
        }
      ]
    },
    {
      "cell_type": "code",
      "source": [
        "def f(W):\n",
        "  return net.loss(x, t)\n",
        "\n",
        "dW = numerical_gradient(f, net.W)\n",
        "print(dW)"
      ],
      "metadata": {
        "colab": {
          "base_uri": "https://localhost:8080/"
        },
        "id": "13vFcYAXUtJq",
        "outputId": "106cbc2a-5b10-4587-99f0-cb7b8d84a4ea"
      },
      "execution_count": 39,
      "outputs": [
        {
          "output_type": "stream",
          "name": "stdout",
          "text": [
            "[[ 0.09182686  0.40622134 -0.4980482 ]\n",
            " [ 0.13774029  0.60933201 -0.7470723 ]]\n"
          ]
        }
      ]
    },
    {
      "cell_type": "code",
      "source": [
        "# 람다를 사용한 구현\n",
        "f = lambda w:net.loss(x, t)\n",
        "dW = numerical_gradient(f, net.W)"
      ],
      "metadata": {
        "id": "hmYrZlWFVPgr"
      },
      "execution_count": 40,
      "outputs": []
    },
    {
      "cell_type": "code",
      "source": [
        "def sigmoid(x):\n",
        "  return 1 / (1 + np.exp(-x))"
      ],
      "metadata": {
        "id": "YNe3PxbhOe5f"
      },
      "execution_count": 41,
      "outputs": []
    },
    {
      "cell_type": "code",
      "source": [
        "def softmax(a):\n",
        "  c = np.max(a)\n",
        "  exp_a = np.exp(a-c)\n",
        "  sum_exp_a = np.sum(exp_a)\n",
        "  y = exp_a / sum_exp_a\n",
        "\n",
        "  return y"
      ],
      "metadata": {
        "id": "1IgYC5l_OvTf"
      },
      "execution_count": 42,
      "outputs": []
    },
    {
      "cell_type": "markdown",
      "source": [
        "## 4.5 학습 알고리즘 구현하기"
      ],
      "metadata": {
        "id": "Q_fPtS6YMp7L"
      }
    },
    {
      "cell_type": "code",
      "source": [
        "import sys, os\n",
        "from common.functions import *\n",
        "from common.gradient import numerical_gradient\n",
        "\n",
        "class TwoLayerNet:\n",
        "  \n",
        "  # 입력층의 뉴런 수, 은닉층의 뉴런 수, 출력층의 뉴런 수\n",
        "  def __init__(self, input_size, hidden_size, output_size, weight_init_std=0.01):\n",
        "    # 가중치 초기화\n",
        "    # params 신경망의 매개변수를 보관하는 딕셔너리 변수(인스턴스 변수)\n",
        "    # params['W1'] : 1번째 층의 가중치, params['b1'] : 1번째 층의 편향\n",
        "    # params['W2'] : 2번째 층의 가중치, params['b2'] : 2번째 층의 편향\n",
        "      self.params = {}\n",
        "      self.params['W1'] = weight_init_std * np.random.randn(input_size, hidden_size)\n",
        "      self.params['b1'] = np.zeros(hidden_size)\n",
        "      self.params['W2'] = weight_init_std * np.random.randn(hidden_size, output_size)\n",
        "      self.params['b2'] = np.zeros(output_size)\n",
        "  \n",
        "  def predict(self, x):\n",
        "      W1, W2 = self.params['W1'], self.params['W2']\n",
        "      b1, b2 = self.params['b1'], self.params['b2']\n",
        "\n",
        "      a1 = np.dot(x, W1) + b1\n",
        "      z1 = sigmoid(a1)\n",
        "      a2 = np.dot(z1, W2) +b2\n",
        "      y = softmax(a2)\n",
        "\n",
        "      return y\n",
        "  \n",
        "  # x: 입력 데이터, t: 정답 테이블\n",
        "\n",
        "  def loss(self, x, t):\n",
        "      y = self.predict(x)\n",
        "      \n",
        "      return cross_entropy_error(y, t)\n",
        "  \n",
        "  def accuracy(self, x, t):\n",
        "      y = self.predict(x)\n",
        "      y = np.argmax(y, axis=1)\n",
        "      t = np.argmax(t, axis=1)\n",
        "\n",
        "      accuracy = np.sum(y==t) / float(x.shape[0])\n",
        "      return accuracy\n",
        "\n",
        "  # x : 입력 데이터, t : 정답 레이블\n",
        "\n",
        "  def numerical_gradient(self, x, t):\n",
        "      loss_W = lambda W: self.loss(x, t)\n",
        "\n",
        "      grads = {}\n",
        "      grads['W1'] = numerical_gradient(loss_W, self.params['W1'])\n",
        "      grads['b1'] = numerical_gradient(loss_W, self.params['b1'])\n",
        "      grads['W2'] = numerical_gradient(loss_W, self.params['W2'])\n",
        "      grads['b2'] = numerical_gradient(loss_W, self.params['b2'])\n",
        "\n",
        "      return grads"
      ],
      "metadata": {
        "id": "6XR0pe0tXWO0"
      },
      "execution_count": 43,
      "outputs": []
    },
    {
      "cell_type": "code",
      "source": [
        "net = TwoLayerNet(input_size=784, hidden_size=100, output_size=10)\n",
        "print(net.params['W1'].shape)\n",
        "print(net.params['b1'].shape)\n",
        "print(net.params['W2'].shape)\n",
        "print(net.params['b2'].shape)"
      ],
      "metadata": {
        "colab": {
          "base_uri": "https://localhost:8080/"
        },
        "id": "xR_SZvCDPxMa",
        "outputId": "f8afb08f-f8a3-4d3e-83d6-14198b625be4"
      },
      "execution_count": 44,
      "outputs": [
        {
          "output_type": "stream",
          "name": "stdout",
          "text": [
            "(784, 100)\n",
            "(100,)\n",
            "(100, 10)\n",
            "(10,)\n"
          ]
        }
      ]
    },
    {
      "cell_type": "code",
      "source": [
        "x = np.random.rand(100, 784) # 더미 입력 데이터(100장 분량)\n",
        "y = net.predict(x)"
      ],
      "metadata": {
        "id": "t6ilzPLBTa77"
      },
      "execution_count": 45,
      "outputs": []
    },
    {
      "cell_type": "code",
      "source": [
        "x = np.random.rand(100, 784) # 더미 입력 데이터(100장 분량)\n",
        "t = np.random.rand(100, 10)  # 더미 정답 레이블(100장 분량)\n",
        "\n",
        "grads = net.numerical_gradient(x, t) # 기울기 계산\n",
        "\n",
        "print(grads['W1'].shape)\n",
        "print(grads['b1'].shape)\n",
        "print(grads['W2'].shape)\n",
        "print(grads['b2'].shape)"
      ],
      "metadata": {
        "colab": {
          "base_uri": "https://localhost:8080/"
        },
        "id": "lbetA5LETk6R",
        "outputId": "94a41ac8-a4e6-489e-cc6e-9fdd75252c74"
      },
      "execution_count": 46,
      "outputs": [
        {
          "output_type": "stream",
          "name": "stdout",
          "text": [
            "(784, 100)\n",
            "(100,)\n",
            "(100, 10)\n",
            "(10,)\n"
          ]
        }
      ]
    },
    {
      "cell_type": "markdown",
      "source": [
        "### 4.5.2 미니배치 학습 구현하기"
      ],
      "metadata": {
        "id": "rDip14S_Vb1u"
      }
    },
    {
      "cell_type": "code",
      "source": [
        "%cd /content/drive/MyDrive/Colab Notebooks/밑바닥부터 시작하는 딥려닝/deep-learning-from-scratch-master/ch04"
      ],
      "metadata": {
        "colab": {
          "base_uri": "https://localhost:8080/"
        },
        "id": "YQ73J-axV3qe",
        "outputId": "02cb6d99-51ee-4202-b4ab-7fe26f8b624f"
      },
      "execution_count": 47,
      "outputs": [
        {
          "output_type": "stream",
          "name": "stdout",
          "text": [
            "/content/drive/MyDrive/Colab Notebooks/밑바닥부터 시작하는 딥려닝/deep-learning-from-scratch-master/ch04\n"
          ]
        }
      ]
    },
    {
      "cell_type": "code",
      "source": [
        "import numpy as np\n",
        "from dataset.mnist import load_mnist\n",
        "from two_layer_net import TwoLayerNet\n",
        "\n",
        "(x_train, t_train), (x_test, t_test) = load_mnist(normalize=True, one_hot_label = True)\n",
        "\n",
        "train_loss_list = []\n",
        "\n",
        "# 하이퍼파라미터\n",
        "iters_num = 10000 # 반복횟수\n",
        "train_size = x_train.shape[0]\n",
        "batch_size = 100 # 미니배치크기\n",
        "learning_rate = 0.1\n",
        "\n",
        "network = TwoLayerNet(input_size=784, hidden_size=50, output_size=10)\n",
        "\n",
        "for i in range(iters_num):\n",
        "  # 미니배치 획득\n",
        "  batch_mast = np.random.choice(train_size, batch_size)\n",
        "  x_batch = x_train[batch_mask]\n",
        "  t_batch = t_train[batch_mask]\n",
        "\n",
        "  # 기울기 계산\n",
        "  grad = network.numerical_gradient(x_batch, t_batch)\n",
        "  # grad = network.gradient(x_batch, t_batch) # 성능 개선판!\n",
        "\n",
        "  # 매개변수 갱신\n",
        "  for key in ('W1', 'b1', 'W2', 'b2'):\n",
        "    network.params[key] -= learning_rate * grad[key]\n",
        "\n",
        "  # 학습 경과 기록\n",
        "  loss = network.loss(x_batch, t_batch)\n",
        "  train_loss_list.append(loss)"
      ],
      "metadata": {
        "id": "q9nMSyxWUGOC"
      },
      "execution_count": null,
      "outputs": []
    },
    {
      "cell_type": "code",
      "source": [
        "import matplotlib.pyplot as plt\n",
        "from dataset.mnist import load_mnist\n",
        "from two_layer_net import TwoLayerNet\n",
        "\n",
        "# 데이터 읽기\n",
        "(x_train, t_train), (x_test, t_test) = load_mnist(normalize=True, one_hot_label=True)\n",
        "\n",
        "network = TwoLayerNet(input_size=784, hidden_size=50, output_size=10)\n",
        "\n",
        "# 하이퍼파라미터\n",
        "iters_num = 10000  # 반복 횟수를 적절히 설정한다.\n",
        "train_size = x_train.shape[0]\n",
        "batch_size = 100   # 미니배치 크기\n",
        "learning_rate = 0.1\n",
        "\n",
        "train_loss_list = []\n",
        "train_acc_list = []\n",
        "test_acc_list = []\n",
        "\n",
        "# 1에폭당 반복 수\n",
        "iter_per_epoch = max(train_size / batch_size, 1)\n",
        "\n",
        "for i in range(iters_num):\n",
        "    # 미니배치 획득\n",
        "    batch_mask = np.random.choice(train_size, batch_size)\n",
        "    x_batch = x_train[batch_mask]\n",
        "    t_batch = t_train[batch_mask]\n",
        "    \n",
        "    # 기울기 계산\n",
        "    #grad = network.numerical_gradient(x_batch, t_batch)\n",
        "    grad = network.gradient(x_batch, t_batch)\n",
        "    \n",
        "    # 매개변수 갱신\n",
        "    for key in ('W1', 'b1', 'W2', 'b2'):\n",
        "        network.params[key] -= learning_rate * grad[key]\n",
        "    \n",
        "    # 학습 경과 기록\n",
        "    loss = network.loss(x_batch, t_batch)\n",
        "    train_loss_list.append(loss)\n",
        "    \n",
        "    # 1에폭당 정확도 계산\n",
        "    if i % iter_per_epoch == 0:\n",
        "        train_acc = network.accuracy(x_train, t_train)\n",
        "        test_acc = network.accuracy(x_test, t_test)\n",
        "        train_acc_list.append(train_acc)\n",
        "        test_acc_list.append(test_acc)\n",
        "        print(\"train acc, test acc | \" + str(train_acc) + \", \" + str(test_acc))\n",
        "\n",
        "# 그래프 그리기\n",
        "markers = {'train': 'o', 'test': 's'}\n",
        "x = np.arange(len(train_acc_list))\n",
        "plt.plot(x, train_acc_list, label='train acc')\n",
        "plt.plot(x, test_acc_list, label='test acc', linestyle='--')\n",
        "plt.xlabel(\"epochs\")\n",
        "plt.ylabel(\"accuracy\")\n",
        "plt.ylim(0, 1.0)\n",
        "plt.legend(loc='lower right')\n",
        "plt.show()"
      ],
      "metadata": {
        "colab": {
          "base_uri": "https://localhost:8080/",
          "height": 595
        },
        "id": "s1gZwJCjb5fq",
        "outputId": "81f4b26d-5ea9-4b8c-d608-c920f43edf23"
      },
      "execution_count": 49,
      "outputs": [
        {
          "output_type": "stream",
          "name": "stdout",
          "text": [
            "train acc, test acc | 0.09863333333333334, 0.0958\n",
            "train acc, test acc | 0.7711166666666667, 0.7762\n",
            "train acc, test acc | 0.8773166666666666, 0.8814\n",
            "train acc, test acc | 0.89885, 0.902\n",
            "train acc, test acc | 0.9082666666666667, 0.9113\n",
            "train acc, test acc | 0.9155666666666666, 0.9163\n",
            "train acc, test acc | 0.9204833333333333, 0.9213\n",
            "train acc, test acc | 0.9251166666666667, 0.9249\n",
            "train acc, test acc | 0.9290166666666667, 0.9303\n",
            "train acc, test acc | 0.9314833333333333, 0.932\n",
            "train acc, test acc | 0.9345833333333333, 0.9344\n",
            "train acc, test acc | 0.9368333333333333, 0.9368\n",
            "train acc, test acc | 0.9396666666666667, 0.9396\n",
            "train acc, test acc | 0.9423333333333334, 0.9408\n",
            "train acc, test acc | 0.94495, 0.9435\n",
            "train acc, test acc | 0.9459833333333333, 0.9441\n",
            "train acc, test acc | 0.9479333333333333, 0.9453\n"
          ]
        },
        {
          "output_type": "display_data",
          "data": {
            "text/plain": [
              "<Figure size 432x288 with 1 Axes>"
            ],
            "image/png": "[encoded data removed]"
          },
          "metadata": {
            "needs_background": "light"
          }
        }
      ]
    },
    {
      "cell_type": "markdown",
      "source": [
        "# Chapter 5.오차역전파법"
      ],
      "metadata": {
        "id": "XGTa19X345t4"
      }
    },
    {
      "cell_type": "markdown",
      "source": [
        "## 5.4 단순한 계층 구현하기"
      ],
      "metadata": {
        "id": "382vQlqO8quQ"
      }
    },
    {
      "cell_type": "markdown",
      "source": [
        "### 5.4.1 곱셈 계층"
      ],
      "metadata": {
        "id": "bWyz0mCF8wQA"
      }
    },
    {
      "cell_type": "code",
      "source": [
        "class MulLayer:\n",
        "  def __init__(self):\n",
        "    self.x = None\n",
        "    self.y = None\n",
        "\n",
        "  def forward(self, x, y):\n",
        "    self.x = x\n",
        "    self.y = y\n",
        "    out = x * y\n",
        "    \n",
        "    return out\n",
        "\n",
        "  def backward(self, dout):\n",
        "    dx = dout * self.y     # x 와 y 를 바꾼다.\n",
        "    dy = dout * self.x\n",
        "\n",
        "    return dx, dy"
      ],
      "metadata": {
        "id": "l5nWgATC4x2q"
      },
      "execution_count": 50,
      "outputs": []
    },
    {
      "cell_type": "code",
      "source": [
        "apple = 100\n",
        "apple_num = 2\n",
        "tax = 1.1\n",
        "\n",
        "# 계층들\n",
        "mul_apple_layer = MulLayer()\n",
        "mul_tax_layer = MulLayer()\n",
        "\n",
        "# 순전파\n",
        "apple_price = mul_apple_layer.forward(apple, apple_num)\n",
        "price = mul_tax_layer.forward(apple_price, tax)\n",
        "\n",
        "print(price) #220\n"
      ],
      "metadata": {
        "colab": {
          "base_uri": "https://localhost:8080/"
        },
        "id": "b8GFT18A9pI4",
        "outputId": "b4f2669f-cbe5-4cf0-b96c-2b74008dc76b"
      },
      "execution_count": 51,
      "outputs": [
        {
          "output_type": "stream",
          "name": "stdout",
          "text": [
            "220.00000000000003\n"
          ]
        }
      ]
    },
    {
      "cell_type": "code",
      "source": [
        "# 역전파\n",
        "dprice = 1\n",
        "dapple_price, dtax = mul_tax_layer.backward(dprice)\n",
        "dapple, dapple_num = mul_apple_layer.backward(dapple_price)\n",
        "\n",
        "print(dapple, dapple_num, dtax)"
      ],
      "metadata": {
        "colab": {
          "base_uri": "https://localhost:8080/"
        },
        "id": "5VZUo32A992d",
        "outputId": "c61029e6-9130-42f7-b6b4-822fbbba4564"
      },
      "execution_count": 52,
      "outputs": [
        {
          "output_type": "stream",
          "name": "stdout",
          "text": [
            "2.2 110.00000000000001 200\n"
          ]
        }
      ]
    },
    {
      "cell_type": "markdown",
      "source": [
        "### 5.4.2 덧셈 계층"
      ],
      "metadata": {
        "id": "dYhfxSW4-ap3"
      }
    },
    {
      "cell_type": "code",
      "source": [
        "class AddLayer:\n",
        "  def __init__(self):\n",
        "    pass\n",
        "  \n",
        "  def forward(self, x, y):\n",
        "    out = x + y\n",
        "    return out\n",
        "  \n",
        "  def backward(self, dout):\n",
        "    dx = dout * 1\n",
        "    dy = dout * 1\n",
        "    return dx, dy"
      ],
      "metadata": {
        "id": "aFfwXSUd-NKX"
      },
      "execution_count": 53,
      "outputs": []
    },
    {
      "cell_type": "code",
      "source": [
        "apple = 100\n",
        "apple_num = 2\n",
        "orange = 150\n",
        "orange_num = 3\n",
        "tax = 1.1\n",
        "\n",
        "# 계층들\n",
        "mul_apple_layer = MulLayer()\n",
        "mul_orange_layer = MulLayer()\n",
        "add_apple_orange_layer = AddLayer()\n",
        "mul_tax_layer = MulLayer()\n",
        "\n",
        "# 순전파\n",
        "apple_price = mul_apple_layer.forward(apple, apple_num) # (1)\n",
        "orange_price = mul_orange_layer.forward(orange, orange_num) # (2)\n",
        "all_price = add_apple_orange_layer.forward(apple_price, orange_price) # (3)\n",
        "price = mul_tax_layer.forward(all_price, tax) # (4)\n",
        "\n",
        "# 역전파\n",
        "dprice = 1\n",
        "dall_price, dtax = mul_tax_layer.backward(dprice) # (4)\n",
        "dapple_price, dorange_price = add_apple_orange_layer.backward(dall_price) # (3)\n",
        "dorange, dorange_num = mul_orange_layer.backward(dorange_price) # (2)\n",
        "dapple, dapple_num = mul_apple_layer.backward(dapple_price) # (1)\n",
        "\n",
        "print(price)\n",
        "print(dapple_num, dapple, dorange, dorange_num, dtax)"
      ],
      "metadata": {
        "colab": {
          "base_uri": "https://localhost:8080/"
        },
        "id": "wWZzVc5c_H66",
        "outputId": "d81dc824-db54-4856-b17e-96294a37a5ef"
      },
      "execution_count": 55,
      "outputs": [
        {
          "output_type": "stream",
          "name": "stdout",
          "text": [
            "715.0000000000001\n",
            "110.00000000000001 2.2 3.3000000000000003 165.0 650\n"
          ]
        }
      ]
    },
    {
      "cell_type": "markdown",
      "source": [
        "## 5.5 활성화 함수 계층 구현하기"
      ],
      "metadata": {
        "id": "6_BACTYCAvdC"
      }
    },
    {
      "cell_type": "markdown",
      "source": [
        "### 5.5.1 ReLU 계층"
      ],
      "metadata": {
        "id": "v4Z7trM2AxjX"
      }
    },
    {
      "cell_type": "code",
      "source": [
        "class Relu:\n",
        "  def __init__(self):\n",
        "    self.mask = None\n",
        "\n",
        "  def forward(self, x):\n",
        "    self.mask = (x <= 0)\n",
        "    out = x.copy()\n",
        "    out[self.mask] = 0\n",
        "\n",
        "    return out\n",
        "  \n",
        "  def backward(self, dout):\n",
        "    dout[self.mask] = 0\n",
        "    dx = dout\n",
        "\n",
        "    return dx"
      ],
      "metadata": {
        "id": "gNIAq8c3AaF3"
      },
      "execution_count": 56,
      "outputs": []
    },
    {
      "cell_type": "code",
      "source": [
        "# mask 는 True/False로 구성된 넘파이 배열로, 순전파의 입력인 x의 원소 값이 0 이하인 인덱스는 True, 그 외는 False로 유지한다\n",
        "x = np.array([[1.0, -0.5], [-2.0, 3.0]])\n",
        "print(x)"
      ],
      "metadata": {
        "colab": {
          "base_uri": "https://localhost:8080/"
        },
        "id": "GG91MNE4BO9Q",
        "outputId": "4df53c37-a17c-4046-e5ad-f65689264ce7"
      },
      "execution_count": 57,
      "outputs": [
        {
          "output_type": "stream",
          "name": "stdout",
          "text": [
            "[[ 1.  -0.5]\n",
            " [-2.   3. ]]\n"
          ]
        }
      ]
    },
    {
      "cell_type": "code",
      "source": [
        "mask = (x <= 0)\n",
        "print(mask)"
      ],
      "metadata": {
        "colab": {
          "base_uri": "https://localhost:8080/"
        },
        "id": "-wDgGvdABbEM",
        "outputId": "ad6c27d1-78c9-41c1-e5a2-f2547dc50a49"
      },
      "execution_count": 58,
      "outputs": [
        {
          "output_type": "stream",
          "name": "stdout",
          "text": [
            "[[False  True]\n",
            " [ True False]]\n"
          ]
        }
      ]
    },
    {
      "cell_type": "markdown",
      "source": [
        "### 5.5.2 Sigmoid 계층"
      ],
      "metadata": {
        "id": "dQtSv87pBlIG"
      }
    },
    {
      "cell_type": "code",
      "source": [
        "class Sigmoid:\n",
        "  def __init__(self):\n",
        "    self.out = None\n",
        "\n",
        "  def forward(self, x):\n",
        "    out = 1 / (1 + np.exp(-x))\n",
        "    self.out = out\n",
        "\n",
        "    return out\n",
        "\n",
        "  def backward(self, dout):\n",
        "    dx = dout * (1.0 - self.out) * self.out\n",
        "\n",
        "    return dx"
      ],
      "metadata": {
        "id": "tw2iUOfdBdy2"
      },
      "execution_count": 60,
      "outputs": []
    },
    {
      "cell_type": "markdown",
      "source": [
        "## 5.6 Affine/Softmax 계층 구현하기\n",
        "신경망의 순전파 때 수행하는 행렬의 곱은 기하학에서는 어파인 변환(Affine transformation) 이라고 한다. 따라서 어파인 변환을 수행하는 처리를 'Affine 계층' 이라는 이름으로 구현한다."
      ],
      "metadata": {
        "id": "pUURs3fkC8YI"
      }
    },
    {
      "cell_type": "markdown",
      "source": [
        "### 5.6.1 Affine 계층"
      ],
      "metadata": {
        "id": "wnKyn57qC_KS"
      }
    },
    {
      "cell_type": "code",
      "source": [
        "# dot\n",
        "X = np.random.rand(2)    # 입력\n",
        "W = np.random.rand(2,3)  # 가중치\n",
        "B = np.random.rand(3)    # 편향\n",
        "\n",
        "print(X.shape)\n",
        "print(W.shape)\n",
        "print(B.shape)\n",
        "\n",
        "Y = np.dot(X, W) + B\n",
        "print(Y)"
      ],
      "metadata": {
        "colab": {
          "base_uri": "https://localhost:8080/"
        },
        "id": "tRIKciO8C1qo",
        "outputId": "b948afac-d0bf-48c6-f836-90e4272b0ae5"
      },
      "execution_count": 63,
      "outputs": [
        {
          "output_type": "stream",
          "name": "stdout",
          "text": [
            "(2,)\n",
            "(2, 3)\n",
            "(3,)\n",
            "[0.52520018 1.23800066 1.27515169]\n"
          ]
        }
      ]
    },
    {
      "cell_type": "markdown",
      "source": [
        "### 5.6.2 배치용 Affine 계층"
      ],
      "metadata": {
        "id": "_QjtnSZaEWrA"
      }
    },
    {
      "cell_type": "code",
      "source": [
        "X_dot_W = np.array([[0, 0, 0], [10, 10, 10]])\n",
        "B = np.array([1, 2, 3])\n",
        "\n",
        "X_dot_W"
      ],
      "metadata": {
        "colab": {
          "base_uri": "https://localhost:8080/"
        },
        "id": "eUYOk5LODTmN",
        "outputId": "310dda9b-141a-4e9f-c174-f4b8da077e19"
      },
      "execution_count": 64,
      "outputs": [
        {
          "output_type": "execute_result",
          "data": {
            "text/plain": [
              "array([[ 0,  0,  0],\n",
              "       [10, 10, 10]])"
            ]
          },
          "metadata": {},
          "execution_count": 64
        }
      ]
    },
    {
      "cell_type": "code",
      "source": [
        "X_dot_W + B"
      ],
      "metadata": {
        "colab": {
          "base_uri": "https://localhost:8080/"
        },
        "id": "jKNH4Z3nEoK7",
        "outputId": "4916a17b-9ba0-4916-c1fb-5149962ff788"
      },
      "execution_count": 65,
      "outputs": [
        {
          "output_type": "execute_result",
          "data": {
            "text/plain": [
              "array([[ 1,  2,  3],\n",
              "       [11, 12, 13]])"
            ]
          },
          "metadata": {},
          "execution_count": 65
        }
      ]
    },
    {
      "cell_type": "code",
      "source": [
        "dY = np.array([[1, 2, 3], [4, 5, 6]])\n",
        "dY"
      ],
      "metadata": {
        "colab": {
          "base_uri": "https://localhost:8080/"
        },
        "id": "GgyLiLhlEqZG",
        "outputId": "8c10f60f-3f1b-44dc-b294-8cf449b03419"
      },
      "execution_count": 67,
      "outputs": [
        {
          "output_type": "execute_result",
          "data": {
            "text/plain": [
              "array([[1, 2, 3],\n",
              "       [4, 5, 6]])"
            ]
          },
          "metadata": {},
          "execution_count": 67
        }
      ]
    },
    {
      "cell_type": "code",
      "source": [
        "dB = np.sum(dY, axis=0)\n",
        "dB"
      ],
      "metadata": {
        "colab": {
          "base_uri": "https://localhost:8080/"
        },
        "id": "NpxKQ3KUEytl",
        "outputId": "141c744a-1f56-46dd-d993-60008f0bab86"
      },
      "execution_count": 68,
      "outputs": [
        {
          "output_type": "execute_result",
          "data": {
            "text/plain": [
              "array([5, 7, 9])"
            ]
          },
          "metadata": {},
          "execution_count": 68
        }
      ]
    },
    {
      "cell_type": "code",
      "source": [
        "class Affine:\n",
        "  def __init__(self, W, b):\n",
        "    self.W = W\n",
        "    self.b = b\n",
        "    self.x = None\n",
        "    self.dW = None\n",
        "    self.db = None\n",
        "  \n",
        "  def forward(self, x):\n",
        "    self.x = x\n",
        "    out = np.dot(x, self.W) + self.b\n",
        "\n",
        "    return out\n",
        "  \n",
        "  def backward(self, dout):\n",
        "    dx = np.dot(dout, self.W.T)\n",
        "    self.dW = np.dot(self.x.T, dout)\n",
        "    self.db = np.sum(dout, axis=0)\n",
        "\n",
        "    return dx"
      ],
      "metadata": {
        "id": "xc7mEgPYE6BG"
      },
      "execution_count": 69,
      "outputs": []
    },
    {
      "cell_type": "markdown",
      "source": [
        "### 5.6.3 Softmax-with-Loss 계층"
      ],
      "metadata": {
        "id": "yCmGemKFGZA7"
      }
    },
    {
      "cell_type": "code",
      "source": [
        "def softmax(a):\n",
        "  c = np.max(a)\n",
        "  exp_a = np.exp(a-c)\n",
        "  sum_exp_a = np.sum(exp_a)\n",
        "  y = exp_a / sum_exp_a\n",
        "\n",
        "  return y"
      ],
      "metadata": {
        "id": "QOkiF5EOHU8T"
      },
      "execution_count": 71,
      "outputs": []
    },
    {
      "cell_type": "code",
      "source": [
        "def cross_entropy_error(y, t):\n",
        "  if y.ndim == 1:\n",
        "    t = t.reshape(1, t.size)\n",
        "    y = y.reshape(1, y.size)\n",
        "\n",
        "  batch_size = y.shape[0]\n",
        "  return -np.sum(t * np.log(y + 1e-7)) / batch_size"
      ],
      "metadata": {
        "id": "jRV1OkKgHVZL"
      },
      "execution_count": 72,
      "outputs": []
    },
    {
      "cell_type": "code",
      "source": [
        "class SoftmaxWithLoss:\n",
        "  def __init__(self):\n",
        "    self.loss = None  # 손실\n",
        "    self.y = None     # Softmax의 출력\n",
        "    self.t = None     # 정답 레이블(원-핫 벡터)\n",
        "  \n",
        "  def forward(self, x, t):\n",
        "    self.t = t\n",
        "    self.y = softmax(x)\n",
        "    self.loss = cross_entropy_error(self.y, self.t)\n",
        "    return self.loss\n",
        "  \n",
        "  def backward(self, dout=1):\n",
        "    batch_size = self.t.shape[0]\n",
        "    dx = (self.y - self.t) / batch_size\n",
        "    \n",
        "    return dx"
      ],
      "metadata": {
        "id": "AEAFPvemFXZi"
      },
      "execution_count": 74,
      "outputs": []
    },
    {
      "cell_type": "markdown",
      "source": [
        "## 5.7 오차역전파법 구현하기"
      ],
      "metadata": {
        "id": "JQUSochtH-gO"
      }
    },
    {
      "cell_type": "code",
      "source": [
        "import sys, os\n",
        "path = \"/content/drive/MyDrive/Colab Notebooks/밑바닥부터 시작하는 딥려닝/deep-learning-from-scratch-master/ch05\"\n",
        "parent = os.path.join(path, os.pardir)\n",
        "sys.path.append(os.path.abspath(parent))"
      ],
      "metadata": {
        "id": "AX9iGBI8Hvk8"
      },
      "execution_count": 75,
      "outputs": []
    },
    {
      "cell_type": "code",
      "source": [
        "import numpy as np\n",
        "from common.layers import *\n",
        "from common.gradient import numerical_gradient\n",
        "from collections import OrderedDict\n",
        "\n",
        "\n",
        "class TwoLayerNet:\n",
        "\n",
        "    def __init__(self, input_size, hidden_size, output_size, weight_init_std = 0.01):\n",
        "        # 가중치 초기화\n",
        "        self.params = {}\n",
        "        self.params['W1'] = weight_init_std * np.random.randn(input_size, hidden_size)\n",
        "        self.params['b1'] = np.zeros(hidden_size)\n",
        "        self.params['W2'] = weight_init_std * np.random.randn(hidden_size, output_size) \n",
        "        self.params['b2'] = np.zeros(output_size)\n",
        "\n",
        "        # 계층 생성\n",
        "        self.layers = OrderedDict()\n",
        "        self.layers['Affine1'] = Affine(self.params['W1'], self.params['b1'])\n",
        "        self.layers['Relu1'] = Relu()\n",
        "        self.layers['Affine2'] = Affine(self.params['W2'], self.params['b2'])\n",
        "\n",
        "        self.lastLayer = SoftmaxWithLoss()\n",
        "        \n",
        "    def predict(self, x):\n",
        "        for layer in self.layers.values():\n",
        "            x = layer.forward(x)\n",
        "        \n",
        "        return x\n",
        "        \n",
        "    # x : 입력 데이터, t : 정답 레이블\n",
        "    def loss(self, x, t):\n",
        "        y = self.predict(x)\n",
        "        return self.lastLayer.forward(y, t)\n",
        "    \n",
        "    def accuracy(self, x, t):\n",
        "        y = self.predict(x)\n",
        "        y = np.argmax(y, axis=1)\n",
        "        if t.ndim != 1 : t = np.argmax(t, axis=1)\n",
        "        \n",
        "        accuracy = np.sum(y == t) / float(x.shape[0])\n",
        "        return accuracy\n",
        "        \n",
        "    # x : 입력 데이터, t : 정답 레이블\n",
        "    def numerical_gradient(self, x, t):\n",
        "        loss_W = lambda W: self.loss(x, t)\n",
        "        \n",
        "        grads = {}\n",
        "        grads['W1'] = numerical_gradient(loss_W, self.params['W1'])\n",
        "        grads['b1'] = numerical_gradient(loss_W, self.params['b1'])\n",
        "        grads['W2'] = numerical_gradient(loss_W, self.params['W2'])\n",
        "        grads['b2'] = numerical_gradient(loss_W, self.params['b2'])\n",
        "        \n",
        "        return grads\n",
        "        \n",
        "    def gradient(self, x, t):\n",
        "        # forward\n",
        "        self.loss(x, t)\n",
        "\n",
        "        # backward\n",
        "        dout = 1\n",
        "        dout = self.lastLayer.backward(dout)\n",
        "        \n",
        "        layers = list(self.layers.values())\n",
        "        layers.reverse()\n",
        "        for layer in layers:\n",
        "            dout = layer.backward(dout)\n",
        "\n",
        "        # 결과 저장\n",
        "        grads = {}\n",
        "        grads['W1'], grads['b1'] = self.layers['Affine1'].dW, self.layers['Affine1'].db\n",
        "        grads['W2'], grads['b2'] = self.layers['Affine2'].dW, self.layers['Affine2'].db\n",
        "\n",
        "        return grads"
      ],
      "metadata": {
        "id": "eksmzCkYIc9L"
      },
      "execution_count": 76,
      "outputs": []
    },
    {
      "cell_type": "code",
      "source": [
        "from dataset.mnist import load_mnist\n",
        "from two_layer_net import TwoLayerNet\n",
        "\n",
        "# 데이터 읽기\n",
        "(x_train, t_train), (x_test, t_test) = load_mnist(normalize=True, one_hot_label=True)\n",
        "\n",
        "network = TwoLayerNet(input_size=784, hidden_size=50, output_size=10)\n",
        "\n",
        "x_batch = x_train[:3]\n",
        "t_batch = t_train[:3]\n",
        "\n",
        "grad_numerical = network.numerical_gradient(x_batch, t_batch)\n",
        "grad_backprop = network.gradient(x_batch, t_batch)\n",
        "\n",
        "# 각 가중치의 차이의 절댓값을 구한 후, 그 절댓값들의 평균을 낸다.\n",
        "for key in grad_numerical.keys():\n",
        "  diff = np.average(np.abs(grad_backprop[key] - grad_numerical[key]))\n",
        "  print(key + \":\" + str(diff))"
      ],
      "metadata": {
        "colab": {
          "base_uri": "https://localhost:8080/"
        },
        "id": "2QF4XhNlLHaQ",
        "outputId": "92c6c5f6-9b55-43c9-ef4e-9ea1562b0b5f"
      },
      "execution_count": 80,
      "outputs": [
        {
          "output_type": "stream",
          "name": "stdout",
          "text": [
            "W1:2.0814785923306642e-10\n",
            "b1:1.0713549638538328e-09\n",
            "W2:7.266514783790811e-08\n",
            "b2:1.4406845585679394e-07\n"
          ]
        }
      ]
    },
    {
      "cell_type": "markdown",
      "source": [
        "### 5.7.4 오차역전파법을 사용한 학습 구현하기"
      ],
      "metadata": {
        "id": "lDLz-6JvMs6Y"
      }
    },
    {
      "cell_type": "code",
      "source": [
        "import numpy as np\n",
        "from dataset.mnist import load_mnist\n",
        "from two_layer_net import TwoLayerNet\n",
        "\n",
        "# 데이터 읽기\n",
        "(x_train, t_train), (x_test, t_test) = load_mnist(normalize=True, one_hot_label=True)\n",
        "network = TwoLayerNet(input_size=784, hidden_size=50, output_size=10)\n",
        "\n",
        "iters_num = 10000\n",
        "train_size = x_train.shape[0]\n",
        "batch_size = 100\n",
        "learning_rate = 0.1\n",
        "\n",
        "train_loss_list = []\n",
        "train_acc_list = []\n",
        "test_acc_list = []\n",
        "\n",
        "iter_per_epoch = max(train_size / batch_size, 1)\n",
        "\n",
        "for i in range(iters_num):\n",
        "  batch_mask = np.random.choice(train_size, batch_size)\n",
        "  x_batch = x_train[batch_mask]\n",
        "  t_batch = t_train[batch_mask]\n",
        "\n",
        "  # 오차역전파법으로 기울기를 구한다.\n",
        "  grad = network.gradient(x_batch, t_batch)\n",
        "\n",
        "  # 갱신\n",
        "  for key in ('W1', 'b1', 'W2', 'b2'):\n",
        "    network.params[key] -= learning_rate * grad[key]\n",
        "\n",
        "  loss = network.loss(x_batch, t_batch)\n",
        "  train_loss_list.append(loss)\n",
        "\n",
        "  if i % iter_per_epoch == 0:\n",
        "    train_acc = network.accuracy(x_train, t_train)\n",
        "    test_acc = network.accuracy(x_test, t_test)\n",
        "    train_acc_list.append(train_acc)\n",
        "    test_acc_list.append(test_acc)\n",
        "    print(train_acc, test_acc)"
      ],
      "metadata": {
        "colab": {
          "base_uri": "https://localhost:8080/"
        },
        "id": "-TjDtatUMQJa",
        "outputId": "1a4a4433-87c6-4dba-a4ea-85aab76519d4"
      },
      "execution_count": 84,
      "outputs": [
        {
          "output_type": "stream",
          "name": "stdout",
          "text": [
            "0.09751666666666667 0.0974\n",
            "0.78675 0.7947\n",
            "0.8759666666666667 0.8804\n",
            "0.8992666666666667 0.9031\n",
            "0.9077333333333333 0.9109\n",
            "0.91415 0.9176\n",
            "0.9196666666666666 0.923\n",
            "0.9240833333333334 0.9265\n",
            "0.9273666666666667 0.9294\n",
            "0.9308166666666666 0.932\n",
            "0.934 0.9348\n",
            "0.9370666666666667 0.9376\n",
            "0.9395166666666667 0.9397\n",
            "0.9413666666666667 0.9415\n",
            "0.9437833333333333 0.9429\n",
            "0.94625 0.9443\n",
            "0.9475666666666667 0.9462\n"
          ]
        }
      ]
    },
    {
      "cell_type": "code",
      "source": [
        "from dataset.mnist import load_mnist\n",
        "from two_layer_net import TwoLayerNet\n",
        "\n",
        "# 데이터 읽기\n",
        "(x_train, t_train), (x_test, t_test) = load_mnist(normalize=True, one_hot_label=True)\n",
        "\n",
        "network = TwoLayerNet(input_size=784, hidden_size=50, output_size=10)\n",
        "\n",
        "iters_num = 10000\n",
        "train_size = x_train.shape[0]\n",
        "batch_size = 100\n",
        "learning_rate = 0.1\n",
        "\n",
        "train_loss_list = []\n",
        "train_acc_list = []\n",
        "test_acc_list = []\n",
        "\n",
        "iter_per_epoch = max(train_size / batch_size, 1)\n",
        "\n",
        "for i in range(iters_num):\n",
        "    batch_mask = np.random.choice(train_size, batch_size)\n",
        "    x_batch = x_train[batch_mask]\n",
        "    t_batch = t_train[batch_mask]\n",
        "    \n",
        "    # 기울기 계산\n",
        "    #grad = network.numerical_gradient(x_batch, t_batch) # 수치 미분 방식\n",
        "    grad = network.gradient(x_batch, t_batch) # 오차역전파법 방식(훨씬 빠르다)\n",
        "    \n",
        "    # 갱신\n",
        "    for key in ('W1', 'b1', 'W2', 'b2'):\n",
        "        network.params[key] -= learning_rate * grad[key]\n",
        "    \n",
        "    loss = network.loss(x_batch, t_batch)\n",
        "    train_loss_list.append(loss)\n",
        "    \n",
        "    if i % iter_per_epoch == 0:\n",
        "        train_acc = network.accuracy(x_train, t_train)\n",
        "        test_acc = network.accuracy(x_test, t_test)\n",
        "        train_acc_list.append(train_acc)\n",
        "        test_acc_list.append(test_acc)\n",
        "        print(train_acc, test_acc)"
      ],
      "metadata": {
        "colab": {
          "base_uri": "https://localhost:8080/"
        },
        "id": "DafleJLFN_8U",
        "outputId": "3a351fa1-cbc0-4574-fd9d-eff79ebf4cde"
      },
      "execution_count": 85,
      "outputs": [
        {
          "output_type": "stream",
          "name": "stdout",
          "text": [
            "0.09915 0.1009\n",
            "0.7993166666666667 0.8051\n",
            "0.8751833333333333 0.8791\n",
            "0.8976833333333334 0.9011\n",
            "0.9064833333333333 0.9104\n",
            "0.9142833333333333 0.9176\n",
            "0.9197166666666666 0.9204\n",
            "0.92435 0.9239\n",
            "0.9272 0.9278\n",
            "0.9306666666666666 0.9311\n",
            "0.9326666666666666 0.9326\n",
            "0.9350833333333334 0.9355\n",
            "0.9375166666666667 0.9362\n",
            "0.9394833333333333 0.938\n",
            "0.9420666666666667 0.9422\n",
            "0.94345 0.9426\n",
            "0.9456666666666667 0.9445\n"
          ]
        }
      ]
    },
    {
      "cell_type": "code",
      "source": [],
      "metadata": {
        "id": "O0k6iuQyOYBa"
      },
      "execution_count": null,
      "outputs": []
    }
  ]
}